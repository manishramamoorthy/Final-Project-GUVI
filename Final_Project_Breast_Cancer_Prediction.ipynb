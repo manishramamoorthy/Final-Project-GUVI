{
  "nbformat": 4,
  "nbformat_minor": 0,
  "metadata": {
    "colab": {
      "provenance": [],
      "authorship_tag": "ABX9TyOlxl/iM1CZLCAmKUANOJur",
      "include_colab_link": true
    },
    "kernelspec": {
      "name": "python3",
      "display_name": "Python 3"
    },
    "language_info": {
      "name": "python"
    }
  },
  "cells": [
    {
      "cell_type": "markdown",
      "metadata": {
        "id": "view-in-github",
        "colab_type": "text"
      },
      "source": [
        "<a href=\"https://colab.research.google.com/github/manishramamoorthy/Final-Project-GUVI/blob/main/Final_Project_Breast_Cancer_Prediction.ipynb\" target=\"_parent\"><img src=\"https://colab.research.google.com/assets/colab-badge.svg\" alt=\"Open In Colab\"/></a>"
      ]
    },
    {
      "cell_type": "code",
      "execution_count": null,
      "metadata": {
        "id": "fUWoPJlFAMxe"
      },
      "outputs": [],
      "source": []
    },
    {
      "cell_type": "markdown",
      "source": [
        "# **Content of Breast Cancer Prediction :**           \n",
        "1) Importing Libraries              \n",
        "2) Load a DataSet             \n",
        "3) Data PreProcessing             \n",
        "\n",
        "    ->1) Top Five Rows of DataSet    \n",
        "    ->2) Last Five Rows of DataSet               \n",
        "    ->3) Shape of a DataSet                          \n",
        "    ->4) Data Types                          \n",
        "    ->5) Information of DataSet                 \n",
        "    ->6) Checking Missing Values of DataSet              \n",
        "    ->7) Droping Duplicates Values of Dataset\n",
        "\n",
        "4) EDA (Exploratory Data Analysis)\n",
        "\n",
        "    ->1)Statistical Measures     \n",
        "    ->2) Analysis a Target Count    \n",
        "    ->3) Visualization of Target Count Plot    \n",
        "    ->4) Visualization Pair Plot of Some Features  \n",
        "    ->5) Visualization of Correlation    \n",
        "\n",
        "5) Train and Test Split            \n",
        "6) Feature Scaling             \n",
        "7) Build a Model            \n",
        "\n",
        "    ->1) Support Vector Machine     \n",
        "    ->2) Decision Tree Classifier     \n",
        "    ->3) Random Forest Classifier \n",
        "\n",
        "8) Making Prediction                   \n",
        "9) Compare Actual and Predicted Scores             \n",
        "10) Evaluation Metrics                \n",
        "11) Feature Importances               "
      ],
      "metadata": {
        "id": "LEdGvoJJAdVI"
      }
    },
    {
      "cell_type": "markdown",
      "source": [
        "**Summary of Breast Cancer Prediction:** \n",
        "\n",
        "\n",
        "Breast Cancer Prediction is a **Supervised Learning**. The Vision of Breast Cancer Prediction is a From Analysis a Feature to Predict **a Patient Cancer (or) Not-Cancer**"
      ],
      "metadata": {
        "id": "g_iVgb3JA_mK"
      }
    },
    {
      "cell_type": "markdown",
      "source": [
        "# **1) Importing Libraries**"
      ],
      "metadata": {
        "id": "PEhqwPqyBGNY"
      }
    },
    {
      "cell_type": "code",
      "source": [
        "import pandas as pd\n",
        "import numpy as np\n",
        "import warnings\n",
        "warnings.filterwarnings(\"ignore\")\n",
        "\n",
        "import matplotlib.pyplot as plt\n",
        "%matplotlib inline\n",
        "import seaborn as sns\n",
        "import plotly.express as px\n",
        "import plotly.graph_objects as go\n",
        "\n",
        "\n",
        "from sklearn.model_selection import train_test_split\n",
        "from sklearn.preprocessing import StandardScaler\n",
        "\n",
        "from sklearn.svm import SVC\n",
        "from sklearn.tree import DecisionTreeClassifier\n",
        "from sklearn.ensemble import RandomForestClassifier\n",
        "\n",
        "from sklearn import metrics\n",
        "from sklearn.metrics import accuracy_score,plot_roc_curve,roc_curve,roc_auc_score,confusion_matrix,f1_score\n",
        "from sklearn.metrics import classification_report"
      ],
      "metadata": {
        "id": "R8K0UQ5LAyQU"
      },
      "execution_count": 1,
      "outputs": []
    },
    {
      "cell_type": "markdown",
      "source": [
        "# **2) Load a DataSet**"
      ],
      "metadata": {
        "id": "ecPqCUCBBS6Z"
      }
    },
    {
      "cell_type": "code",
      "source": [
        "breast_cancer_data = pd.read_csv(\"/content/Cancer_Dataset.csv\")"
      ],
      "metadata": {
        "id": "6lCw7llhBJQS"
      },
      "execution_count": 2,
      "outputs": []
    },
    {
      "cell_type": "markdown",
      "source": [
        "# **3) Data PreProcessing**"
      ],
      "metadata": {
        "id": "ejj8IFRiBeLg"
      }
    },
    {
      "cell_type": "markdown",
      "source": [
        "**1) Top Five Rows of DataSet**"
      ],
      "metadata": {
        "id": "bRb2cOAmBhMA"
      }
    },
    {
      "cell_type": "code",
      "source": [
        "breast_cancer_data.head()"
      ],
      "metadata": {
        "colab": {
          "base_uri": "https://localhost:8080/",
          "height": 206
        },
        "id": "XmkShpA0Bb4C",
        "outputId": "c78abb54-095b-48a1-b1be-394316987450"
      },
      "execution_count": 3,
      "outputs": [
        {
          "output_type": "execute_result",
          "data": {
            "text/plain": [
              "   age  sex  cp  trestbps  chol  fbs  restecg  thalach  exang  oldpeak  slope  \\\n",
              "0   63    1   3       145   233    1        0      150      0      2.3      0   \n",
              "1   37    1   2       130   250    0        1      187      0      3.5      0   \n",
              "2   41    0   1       130   204    0        0      172      0      1.4      2   \n",
              "3   56    1   1       120   236    0        1      178      0      0.8      2   \n",
              "4   57    0   0       120   354    0        1      163      1      0.6      2   \n",
              "\n",
              "   ca  thal  target  \n",
              "0   0     1       1  \n",
              "1   0     2       1  \n",
              "2   0     2       1  \n",
              "3   0     2       1  \n",
              "4   0     2       1  "
            ],
            "text/html": [
              "\n",
              "  <div id=\"df-2911280e-ee39-47c7-a1c1-25f93d5a51ff\">\n",
              "    <div class=\"colab-df-container\">\n",
              "      <div>\n",
              "<style scoped>\n",
              "    .dataframe tbody tr th:only-of-type {\n",
              "        vertical-align: middle;\n",
              "    }\n",
              "\n",
              "    .dataframe tbody tr th {\n",
              "        vertical-align: top;\n",
              "    }\n",
              "\n",
              "    .dataframe thead th {\n",
              "        text-align: right;\n",
              "    }\n",
              "</style>\n",
              "<table border=\"1\" class=\"dataframe\">\n",
              "  <thead>\n",
              "    <tr style=\"text-align: right;\">\n",
              "      <th></th>\n",
              "      <th>age</th>\n",
              "      <th>sex</th>\n",
              "      <th>cp</th>\n",
              "      <th>trestbps</th>\n",
              "      <th>chol</th>\n",
              "      <th>fbs</th>\n",
              "      <th>restecg</th>\n",
              "      <th>thalach</th>\n",
              "      <th>exang</th>\n",
              "      <th>oldpeak</th>\n",
              "      <th>slope</th>\n",
              "      <th>ca</th>\n",
              "      <th>thal</th>\n",
              "      <th>target</th>\n",
              "    </tr>\n",
              "  </thead>\n",
              "  <tbody>\n",
              "    <tr>\n",
              "      <th>0</th>\n",
              "      <td>63</td>\n",
              "      <td>1</td>\n",
              "      <td>3</td>\n",
              "      <td>145</td>\n",
              "      <td>233</td>\n",
              "      <td>1</td>\n",
              "      <td>0</td>\n",
              "      <td>150</td>\n",
              "      <td>0</td>\n",
              "      <td>2.3</td>\n",
              "      <td>0</td>\n",
              "      <td>0</td>\n",
              "      <td>1</td>\n",
              "      <td>1</td>\n",
              "    </tr>\n",
              "    <tr>\n",
              "      <th>1</th>\n",
              "      <td>37</td>\n",
              "      <td>1</td>\n",
              "      <td>2</td>\n",
              "      <td>130</td>\n",
              "      <td>250</td>\n",
              "      <td>0</td>\n",
              "      <td>1</td>\n",
              "      <td>187</td>\n",
              "      <td>0</td>\n",
              "      <td>3.5</td>\n",
              "      <td>0</td>\n",
              "      <td>0</td>\n",
              "      <td>2</td>\n",
              "      <td>1</td>\n",
              "    </tr>\n",
              "    <tr>\n",
              "      <th>2</th>\n",
              "      <td>41</td>\n",
              "      <td>0</td>\n",
              "      <td>1</td>\n",
              "      <td>130</td>\n",
              "      <td>204</td>\n",
              "      <td>0</td>\n",
              "      <td>0</td>\n",
              "      <td>172</td>\n",
              "      <td>0</td>\n",
              "      <td>1.4</td>\n",
              "      <td>2</td>\n",
              "      <td>0</td>\n",
              "      <td>2</td>\n",
              "      <td>1</td>\n",
              "    </tr>\n",
              "    <tr>\n",
              "      <th>3</th>\n",
              "      <td>56</td>\n",
              "      <td>1</td>\n",
              "      <td>1</td>\n",
              "      <td>120</td>\n",
              "      <td>236</td>\n",
              "      <td>0</td>\n",
              "      <td>1</td>\n",
              "      <td>178</td>\n",
              "      <td>0</td>\n",
              "      <td>0.8</td>\n",
              "      <td>2</td>\n",
              "      <td>0</td>\n",
              "      <td>2</td>\n",
              "      <td>1</td>\n",
              "    </tr>\n",
              "    <tr>\n",
              "      <th>4</th>\n",
              "      <td>57</td>\n",
              "      <td>0</td>\n",
              "      <td>0</td>\n",
              "      <td>120</td>\n",
              "      <td>354</td>\n",
              "      <td>0</td>\n",
              "      <td>1</td>\n",
              "      <td>163</td>\n",
              "      <td>1</td>\n",
              "      <td>0.6</td>\n",
              "      <td>2</td>\n",
              "      <td>0</td>\n",
              "      <td>2</td>\n",
              "      <td>1</td>\n",
              "    </tr>\n",
              "  </tbody>\n",
              "</table>\n",
              "</div>\n",
              "      <button class=\"colab-df-convert\" onclick=\"convertToInteractive('df-2911280e-ee39-47c7-a1c1-25f93d5a51ff')\"\n",
              "              title=\"Convert this dataframe to an interactive table.\"\n",
              "              style=\"display:none;\">\n",
              "        \n",
              "  <svg xmlns=\"http://www.w3.org/2000/svg\" height=\"24px\"viewBox=\"0 0 24 24\"\n",
              "       width=\"24px\">\n",
              "    <path d=\"M0 0h24v24H0V0z\" fill=\"none\"/>\n",
              "    <path d=\"M18.56 5.44l.94 2.06.94-2.06 2.06-.94-2.06-.94-.94-2.06-.94 2.06-2.06.94zm-11 1L8.5 8.5l.94-2.06 2.06-.94-2.06-.94L8.5 2.5l-.94 2.06-2.06.94zm10 10l.94 2.06.94-2.06 2.06-.94-2.06-.94-.94-2.06-.94 2.06-2.06.94z\"/><path d=\"M17.41 7.96l-1.37-1.37c-.4-.4-.92-.59-1.43-.59-.52 0-1.04.2-1.43.59L10.3 9.45l-7.72 7.72c-.78.78-.78 2.05 0 2.83L4 21.41c.39.39.9.59 1.41.59.51 0 1.02-.2 1.41-.59l7.78-7.78 2.81-2.81c.8-.78.8-2.07 0-2.86zM5.41 20L4 18.59l7.72-7.72 1.47 1.35L5.41 20z\"/>\n",
              "  </svg>\n",
              "      </button>\n",
              "      \n",
              "  <style>\n",
              "    .colab-df-container {\n",
              "      display:flex;\n",
              "      flex-wrap:wrap;\n",
              "      gap: 12px;\n",
              "    }\n",
              "\n",
              "    .colab-df-convert {\n",
              "      background-color: #E8F0FE;\n",
              "      border: none;\n",
              "      border-radius: 50%;\n",
              "      cursor: pointer;\n",
              "      display: none;\n",
              "      fill: #1967D2;\n",
              "      height: 32px;\n",
              "      padding: 0 0 0 0;\n",
              "      width: 32px;\n",
              "    }\n",
              "\n",
              "    .colab-df-convert:hover {\n",
              "      background-color: #E2EBFA;\n",
              "      box-shadow: 0px 1px 2px rgba(60, 64, 67, 0.3), 0px 1px 3px 1px rgba(60, 64, 67, 0.15);\n",
              "      fill: #174EA6;\n",
              "    }\n",
              "\n",
              "    [theme=dark] .colab-df-convert {\n",
              "      background-color: #3B4455;\n",
              "      fill: #D2E3FC;\n",
              "    }\n",
              "\n",
              "    [theme=dark] .colab-df-convert:hover {\n",
              "      background-color: #434B5C;\n",
              "      box-shadow: 0px 1px 3px 1px rgba(0, 0, 0, 0.15);\n",
              "      filter: drop-shadow(0px 1px 2px rgba(0, 0, 0, 0.3));\n",
              "      fill: #FFFFFF;\n",
              "    }\n",
              "  </style>\n",
              "\n",
              "      <script>\n",
              "        const buttonEl =\n",
              "          document.querySelector('#df-2911280e-ee39-47c7-a1c1-25f93d5a51ff button.colab-df-convert');\n",
              "        buttonEl.style.display =\n",
              "          google.colab.kernel.accessAllowed ? 'block' : 'none';\n",
              "\n",
              "        async function convertToInteractive(key) {\n",
              "          const element = document.querySelector('#df-2911280e-ee39-47c7-a1c1-25f93d5a51ff');\n",
              "          const dataTable =\n",
              "            await google.colab.kernel.invokeFunction('convertToInteractive',\n",
              "                                                     [key], {});\n",
              "          if (!dataTable) return;\n",
              "\n",
              "          const docLinkHtml = 'Like what you see? Visit the ' +\n",
              "            '<a target=\"_blank\" href=https://colab.research.google.com/notebooks/data_table.ipynb>data table notebook</a>'\n",
              "            + ' to learn more about interactive tables.';\n",
              "          element.innerHTML = '';\n",
              "          dataTable['output_type'] = 'display_data';\n",
              "          await google.colab.output.renderOutput(dataTable, element);\n",
              "          const docLink = document.createElement('div');\n",
              "          docLink.innerHTML = docLinkHtml;\n",
              "          element.appendChild(docLink);\n",
              "        }\n",
              "      </script>\n",
              "    </div>\n",
              "  </div>\n",
              "  "
            ]
          },
          "metadata": {},
          "execution_count": 3
        }
      ]
    },
    {
      "cell_type": "markdown",
      "source": [
        "**2) Last Five Rows of DataSet**"
      ],
      "metadata": {
        "id": "aGkzGJ11Blhg"
      }
    },
    {
      "cell_type": "code",
      "source": [
        "breast_cancer_data.tail()"
      ],
      "metadata": {
        "colab": {
          "base_uri": "https://localhost:8080/",
          "height": 206
        },
        "id": "Fon_Y33qBjLZ",
        "outputId": "8e055994-a0ef-4941-80c2-32516291ce62"
      },
      "execution_count": 4,
      "outputs": [
        {
          "output_type": "execute_result",
          "data": {
            "text/plain": [
              "     age  sex  cp  trestbps  chol  fbs  restecg  thalach  exang  oldpeak  \\\n",
              "298   57    0   0       140   241    0        1      123      1      0.2   \n",
              "299   45    1   3       110   264    0        1      132      0      1.2   \n",
              "300   68    1   0       144   193    1        1      141      0      3.4   \n",
              "301   57    1   0       130   131    0        1      115      1      1.2   \n",
              "302   57    0   1       130   236    0        0      174      0      0.0   \n",
              "\n",
              "     slope  ca  thal  target  \n",
              "298      1   0     3       0  \n",
              "299      1   0     3       0  \n",
              "300      1   2     3       0  \n",
              "301      1   1     3       0  \n",
              "302      1   1     2       0  "
            ],
            "text/html": [
              "\n",
              "  <div id=\"df-ebebc4ce-940e-4069-91c4-0556d5d456b5\">\n",
              "    <div class=\"colab-df-container\">\n",
              "      <div>\n",
              "<style scoped>\n",
              "    .dataframe tbody tr th:only-of-type {\n",
              "        vertical-align: middle;\n",
              "    }\n",
              "\n",
              "    .dataframe tbody tr th {\n",
              "        vertical-align: top;\n",
              "    }\n",
              "\n",
              "    .dataframe thead th {\n",
              "        text-align: right;\n",
              "    }\n",
              "</style>\n",
              "<table border=\"1\" class=\"dataframe\">\n",
              "  <thead>\n",
              "    <tr style=\"text-align: right;\">\n",
              "      <th></th>\n",
              "      <th>age</th>\n",
              "      <th>sex</th>\n",
              "      <th>cp</th>\n",
              "      <th>trestbps</th>\n",
              "      <th>chol</th>\n",
              "      <th>fbs</th>\n",
              "      <th>restecg</th>\n",
              "      <th>thalach</th>\n",
              "      <th>exang</th>\n",
              "      <th>oldpeak</th>\n",
              "      <th>slope</th>\n",
              "      <th>ca</th>\n",
              "      <th>thal</th>\n",
              "      <th>target</th>\n",
              "    </tr>\n",
              "  </thead>\n",
              "  <tbody>\n",
              "    <tr>\n",
              "      <th>298</th>\n",
              "      <td>57</td>\n",
              "      <td>0</td>\n",
              "      <td>0</td>\n",
              "      <td>140</td>\n",
              "      <td>241</td>\n",
              "      <td>0</td>\n",
              "      <td>1</td>\n",
              "      <td>123</td>\n",
              "      <td>1</td>\n",
              "      <td>0.2</td>\n",
              "      <td>1</td>\n",
              "      <td>0</td>\n",
              "      <td>3</td>\n",
              "      <td>0</td>\n",
              "    </tr>\n",
              "    <tr>\n",
              "      <th>299</th>\n",
              "      <td>45</td>\n",
              "      <td>1</td>\n",
              "      <td>3</td>\n",
              "      <td>110</td>\n",
              "      <td>264</td>\n",
              "      <td>0</td>\n",
              "      <td>1</td>\n",
              "      <td>132</td>\n",
              "      <td>0</td>\n",
              "      <td>1.2</td>\n",
              "      <td>1</td>\n",
              "      <td>0</td>\n",
              "      <td>3</td>\n",
              "      <td>0</td>\n",
              "    </tr>\n",
              "    <tr>\n",
              "      <th>300</th>\n",
              "      <td>68</td>\n",
              "      <td>1</td>\n",
              "      <td>0</td>\n",
              "      <td>144</td>\n",
              "      <td>193</td>\n",
              "      <td>1</td>\n",
              "      <td>1</td>\n",
              "      <td>141</td>\n",
              "      <td>0</td>\n",
              "      <td>3.4</td>\n",
              "      <td>1</td>\n",
              "      <td>2</td>\n",
              "      <td>3</td>\n",
              "      <td>0</td>\n",
              "    </tr>\n",
              "    <tr>\n",
              "      <th>301</th>\n",
              "      <td>57</td>\n",
              "      <td>1</td>\n",
              "      <td>0</td>\n",
              "      <td>130</td>\n",
              "      <td>131</td>\n",
              "      <td>0</td>\n",
              "      <td>1</td>\n",
              "      <td>115</td>\n",
              "      <td>1</td>\n",
              "      <td>1.2</td>\n",
              "      <td>1</td>\n",
              "      <td>1</td>\n",
              "      <td>3</td>\n",
              "      <td>0</td>\n",
              "    </tr>\n",
              "    <tr>\n",
              "      <th>302</th>\n",
              "      <td>57</td>\n",
              "      <td>0</td>\n",
              "      <td>1</td>\n",
              "      <td>130</td>\n",
              "      <td>236</td>\n",
              "      <td>0</td>\n",
              "      <td>0</td>\n",
              "      <td>174</td>\n",
              "      <td>0</td>\n",
              "      <td>0.0</td>\n",
              "      <td>1</td>\n",
              "      <td>1</td>\n",
              "      <td>2</td>\n",
              "      <td>0</td>\n",
              "    </tr>\n",
              "  </tbody>\n",
              "</table>\n",
              "</div>\n",
              "      <button class=\"colab-df-convert\" onclick=\"convertToInteractive('df-ebebc4ce-940e-4069-91c4-0556d5d456b5')\"\n",
              "              title=\"Convert this dataframe to an interactive table.\"\n",
              "              style=\"display:none;\">\n",
              "        \n",
              "  <svg xmlns=\"http://www.w3.org/2000/svg\" height=\"24px\"viewBox=\"0 0 24 24\"\n",
              "       width=\"24px\">\n",
              "    <path d=\"M0 0h24v24H0V0z\" fill=\"none\"/>\n",
              "    <path d=\"M18.56 5.44l.94 2.06.94-2.06 2.06-.94-2.06-.94-.94-2.06-.94 2.06-2.06.94zm-11 1L8.5 8.5l.94-2.06 2.06-.94-2.06-.94L8.5 2.5l-.94 2.06-2.06.94zm10 10l.94 2.06.94-2.06 2.06-.94-2.06-.94-.94-2.06-.94 2.06-2.06.94z\"/><path d=\"M17.41 7.96l-1.37-1.37c-.4-.4-.92-.59-1.43-.59-.52 0-1.04.2-1.43.59L10.3 9.45l-7.72 7.72c-.78.78-.78 2.05 0 2.83L4 21.41c.39.39.9.59 1.41.59.51 0 1.02-.2 1.41-.59l7.78-7.78 2.81-2.81c.8-.78.8-2.07 0-2.86zM5.41 20L4 18.59l7.72-7.72 1.47 1.35L5.41 20z\"/>\n",
              "  </svg>\n",
              "      </button>\n",
              "      \n",
              "  <style>\n",
              "    .colab-df-container {\n",
              "      display:flex;\n",
              "      flex-wrap:wrap;\n",
              "      gap: 12px;\n",
              "    }\n",
              "\n",
              "    .colab-df-convert {\n",
              "      background-color: #E8F0FE;\n",
              "      border: none;\n",
              "      border-radius: 50%;\n",
              "      cursor: pointer;\n",
              "      display: none;\n",
              "      fill: #1967D2;\n",
              "      height: 32px;\n",
              "      padding: 0 0 0 0;\n",
              "      width: 32px;\n",
              "    }\n",
              "\n",
              "    .colab-df-convert:hover {\n",
              "      background-color: #E2EBFA;\n",
              "      box-shadow: 0px 1px 2px rgba(60, 64, 67, 0.3), 0px 1px 3px 1px rgba(60, 64, 67, 0.15);\n",
              "      fill: #174EA6;\n",
              "    }\n",
              "\n",
              "    [theme=dark] .colab-df-convert {\n",
              "      background-color: #3B4455;\n",
              "      fill: #D2E3FC;\n",
              "    }\n",
              "\n",
              "    [theme=dark] .colab-df-convert:hover {\n",
              "      background-color: #434B5C;\n",
              "      box-shadow: 0px 1px 3px 1px rgba(0, 0, 0, 0.15);\n",
              "      filter: drop-shadow(0px 1px 2px rgba(0, 0, 0, 0.3));\n",
              "      fill: #FFFFFF;\n",
              "    }\n",
              "  </style>\n",
              "\n",
              "      <script>\n",
              "        const buttonEl =\n",
              "          document.querySelector('#df-ebebc4ce-940e-4069-91c4-0556d5d456b5 button.colab-df-convert');\n",
              "        buttonEl.style.display =\n",
              "          google.colab.kernel.accessAllowed ? 'block' : 'none';\n",
              "\n",
              "        async function convertToInteractive(key) {\n",
              "          const element = document.querySelector('#df-ebebc4ce-940e-4069-91c4-0556d5d456b5');\n",
              "          const dataTable =\n",
              "            await google.colab.kernel.invokeFunction('convertToInteractive',\n",
              "                                                     [key], {});\n",
              "          if (!dataTable) return;\n",
              "\n",
              "          const docLinkHtml = 'Like what you see? Visit the ' +\n",
              "            '<a target=\"_blank\" href=https://colab.research.google.com/notebooks/data_table.ipynb>data table notebook</a>'\n",
              "            + ' to learn more about interactive tables.';\n",
              "          element.innerHTML = '';\n",
              "          dataTable['output_type'] = 'display_data';\n",
              "          await google.colab.output.renderOutput(dataTable, element);\n",
              "          const docLink = document.createElement('div');\n",
              "          docLink.innerHTML = docLinkHtml;\n",
              "          element.appendChild(docLink);\n",
              "        }\n",
              "      </script>\n",
              "    </div>\n",
              "  </div>\n",
              "  "
            ]
          },
          "metadata": {},
          "execution_count": 4
        }
      ]
    },
    {
      "cell_type": "markdown",
      "source": [
        "**3) Shape of a DataSet**"
      ],
      "metadata": {
        "id": "XUOzLn69B5ww"
      }
    },
    {
      "cell_type": "code",
      "source": [
        "breast_cancer_data.shape\n",
        "print(\"Number of Rows: \",breast_cancer_data.shape[0])\n",
        "print(\"Number of Columns: \",breast_cancer_data.shape[1])"
      ],
      "metadata": {
        "colab": {
          "base_uri": "https://localhost:8080/"
        },
        "id": "eirWqcWXBx1i",
        "outputId": "be9b748f-d4e5-4adc-d235-c86705134917"
      },
      "execution_count": 5,
      "outputs": [
        {
          "output_type": "stream",
          "name": "stdout",
          "text": [
            "Number of Rows:  303\n",
            "Number of Columns:  14\n"
          ]
        }
      ]
    },
    {
      "cell_type": "markdown",
      "source": [
        "**4) Data Types**"
      ],
      "metadata": {
        "id": "MV2Ptt_FB_px"
      }
    },
    {
      "cell_type": "code",
      "source": [
        "breast_cancer_data.dtypes"
      ],
      "metadata": {
        "colab": {
          "base_uri": "https://localhost:8080/"
        },
        "id": "3B_wq6C4B9Mi",
        "outputId": "fe3e8362-a93c-4d87-855a-3facfe938690"
      },
      "execution_count": 6,
      "outputs": [
        {
          "output_type": "execute_result",
          "data": {
            "text/plain": [
              "age           int64\n",
              "sex           int64\n",
              "cp            int64\n",
              "trestbps      int64\n",
              "chol          int64\n",
              "fbs           int64\n",
              "restecg       int64\n",
              "thalach       int64\n",
              "exang         int64\n",
              "oldpeak     float64\n",
              "slope         int64\n",
              "ca            int64\n",
              "thal          int64\n",
              "target        int64\n",
              "dtype: object"
            ]
          },
          "metadata": {},
          "execution_count": 6
        }
      ]
    },
    {
      "cell_type": "markdown",
      "source": [
        "**5) Information of DataSet**"
      ],
      "metadata": {
        "id": "5s6n_eIKCNiR"
      }
    },
    {
      "cell_type": "code",
      "source": [
        "breast_cancer_data.info()"
      ],
      "metadata": {
        "colab": {
          "base_uri": "https://localhost:8080/"
        },
        "id": "RTlS8OkCCCGM",
        "outputId": "3e2c2829-528e-4e34-9dc4-c8135c56b1b7"
      },
      "execution_count": 7,
      "outputs": [
        {
          "output_type": "stream",
          "name": "stdout",
          "text": [
            "<class 'pandas.core.frame.DataFrame'>\n",
            "RangeIndex: 303 entries, 0 to 302\n",
            "Data columns (total 14 columns):\n",
            " #   Column    Non-Null Count  Dtype  \n",
            "---  ------    --------------  -----  \n",
            " 0   age       303 non-null    int64  \n",
            " 1   sex       303 non-null    int64  \n",
            " 2   cp        303 non-null    int64  \n",
            " 3   trestbps  303 non-null    int64  \n",
            " 4   chol      303 non-null    int64  \n",
            " 5   fbs       303 non-null    int64  \n",
            " 6   restecg   303 non-null    int64  \n",
            " 7   thalach   303 non-null    int64  \n",
            " 8   exang     303 non-null    int64  \n",
            " 9   oldpeak   303 non-null    float64\n",
            " 10  slope     303 non-null    int64  \n",
            " 11  ca        303 non-null    int64  \n",
            " 12  thal      303 non-null    int64  \n",
            " 13  target    303 non-null    int64  \n",
            "dtypes: float64(1), int64(13)\n",
            "memory usage: 33.3 KB\n"
          ]
        }
      ]
    },
    {
      "cell_type": "markdown",
      "source": [
        "**6) Checking Missing Values of DataSet**"
      ],
      "metadata": {
        "id": "eGWtiVdJCSWi"
      }
    },
    {
      "cell_type": "code",
      "source": [
        "plt.figure(figsize = (12,8))\n",
        "sns.heatmap(breast_cancer_data.isnull())"
      ],
      "metadata": {
        "colab": {
          "base_uri": "https://localhost:8080/",
          "height": 505
        },
        "id": "v2lWnTYJCQPn",
        "outputId": "4323fcf4-3322-4e5d-e5b4-4d2412e4964b"
      },
      "execution_count": 9,
      "outputs": [
        {
          "output_type": "execute_result",
          "data": {
            "text/plain": [
              "<matplotlib.axes._subplots.AxesSubplot at 0x7f115d81b250>"
            ]
          },
          "metadata": {},
          "execution_count": 9
        },
        {
          "output_type": "display_data",
          "data": {
            "text/plain": [
              "<Figure size 864x576 with 2 Axes>"
            ],
            "image/png": "[encoded data removed]"
          },
          "metadata": {
            "needs_background": "light"
          }
        }
      ]
    },
    {
      "cell_type": "code",
      "source": [
        "breast_cancer_data.isnull().sum()"
      ],
      "metadata": {
        "colab": {
          "base_uri": "https://localhost:8080/"
        },
        "id": "-DO00q6rCVy3",
        "outputId": "107721ac-7330-4f0e-d9c1-09417c39553e"
      },
      "execution_count": 10,
      "outputs": [
        {
          "output_type": "execute_result",
          "data": {
            "text/plain": [
              "age         0\n",
              "sex         0\n",
              "cp          0\n",
              "trestbps    0\n",
              "chol        0\n",
              "fbs         0\n",
              "restecg     0\n",
              "thalach     0\n",
              "exang       0\n",
              "oldpeak     0\n",
              "slope       0\n",
              "ca          0\n",
              "thal        0\n",
              "target      0\n",
              "dtype: int64"
            ]
          },
          "metadata": {},
          "execution_count": 10
        }
      ]
    },
    {
      "cell_type": "markdown",
      "source": [
        "**7) Droping Duplicates Values of Dataset**"
      ],
      "metadata": {
        "id": "bWSYciumDCuR"
      }
    },
    {
      "cell_type": "code",
      "source": [
        "breast_cancer_data =  breast_cancer_data.drop_duplicates()"
      ],
      "metadata": {
        "id": "-4DiA0foDAQO"
      },
      "execution_count": 11,
      "outputs": []
    },
    {
      "cell_type": "markdown",
      "source": [
        "# **4) EDA (Exploratory Data Analysis)**"
      ],
      "metadata": {
        "id": "mUrDbDJcDUuC"
      }
    },
    {
      "cell_type": "markdown",
      "source": [
        "**1) Statistical Measures**"
      ],
      "metadata": {
        "id": "KSPynulZDZAj"
      }
    },
    {
      "cell_type": "code",
      "source": [
        "breast_cancer_data.describe()"
      ],
      "metadata": {
        "colab": {
          "base_uri": "https://localhost:8080/",
          "height": 364
        },
        "id": "COdvq8WvDI4P",
        "outputId": "98041f1f-7476-442d-88e3-f63c773962ad"
      },
      "execution_count": 13,
      "outputs": [
        {
          "output_type": "execute_result",
          "data": {
            "text/plain": [
              "             age         sex          cp    trestbps        chol         fbs  \\\n",
              "count  302.00000  302.000000  302.000000  302.000000  302.000000  302.000000   \n",
              "mean    54.42053    0.682119    0.963576  131.602649  246.500000    0.149007   \n",
              "std      9.04797    0.466426    1.032044   17.563394   51.753489    0.356686   \n",
              "min     29.00000    0.000000    0.000000   94.000000  126.000000    0.000000   \n",
              "25%     48.00000    0.000000    0.000000  120.000000  211.000000    0.000000   \n",
              "50%     55.50000    1.000000    1.000000  130.000000  240.500000    0.000000   \n",
              "75%     61.00000    1.000000    2.000000  140.000000  274.750000    0.000000   \n",
              "max     77.00000    1.000000    3.000000  200.000000  564.000000    1.000000   \n",
              "\n",
              "          restecg     thalach       exang     oldpeak       slope          ca  \\\n",
              "count  302.000000  302.000000  302.000000  302.000000  302.000000  302.000000   \n",
              "mean     0.526490  149.569536    0.327815    1.043046    1.397351    0.718543   \n",
              "std      0.526027   22.903527    0.470196    1.161452    0.616274    1.006748   \n",
              "min      0.000000   71.000000    0.000000    0.000000    0.000000    0.000000   \n",
              "25%      0.000000  133.250000    0.000000    0.000000    1.000000    0.000000   \n",
              "50%      1.000000  152.500000    0.000000    0.800000    1.000000    0.000000   \n",
              "75%      1.000000  166.000000    1.000000    1.600000    2.000000    1.000000   \n",
              "max      2.000000  202.000000    1.000000    6.200000    2.000000    4.000000   \n",
              "\n",
              "             thal      target  \n",
              "count  302.000000  302.000000  \n",
              "mean     2.314570    0.543046  \n",
              "std      0.613026    0.498970  \n",
              "min      0.000000    0.000000  \n",
              "25%      2.000000    0.000000  \n",
              "50%      2.000000    1.000000  \n",
              "75%      3.000000    1.000000  \n",
              "max      3.000000    1.000000  "
            ],
            "text/html": [
              "\n",
              "  <div id=\"df-81f39440-e3b2-4961-91c6-03b5f15cbdb8\">\n",
              "    <div class=\"colab-df-container\">\n",
              "      <div>\n",
              "<style scoped>\n",
              "    .dataframe tbody tr th:only-of-type {\n",
              "        vertical-align: middle;\n",
              "    }\n",
              "\n",
              "    .dataframe tbody tr th {\n",
              "        vertical-align: top;\n",
              "    }\n",
              "\n",
              "    .dataframe thead th {\n",
              "        text-align: right;\n",
              "    }\n",
              "</style>\n",
              "<table border=\"1\" class=\"dataframe\">\n",
              "  <thead>\n",
              "    <tr style=\"text-align: right;\">\n",
              "      <th></th>\n",
              "      <th>age</th>\n",
              "      <th>sex</th>\n",
              "      <th>cp</th>\n",
              "      <th>trestbps</th>\n",
              "      <th>chol</th>\n",
              "      <th>fbs</th>\n",
              "      <th>restecg</th>\n",
              "      <th>thalach</th>\n",
              "      <th>exang</th>\n",
              "      <th>oldpeak</th>\n",
              "      <th>slope</th>\n",
              "      <th>ca</th>\n",
              "      <th>thal</th>\n",
              "      <th>target</th>\n",
              "    </tr>\n",
              "  </thead>\n",
              "  <tbody>\n",
              "    <tr>\n",
              "      <th>count</th>\n",
              "      <td>302.00000</td>\n",
              "      <td>302.000000</td>\n",
              "      <td>302.000000</td>\n",
              "      <td>302.000000</td>\n",
              "      <td>302.000000</td>\n",
              "      <td>302.000000</td>\n",
              "      <td>302.000000</td>\n",
              "      <td>302.000000</td>\n",
              "      <td>302.000000</td>\n",
              "      <td>302.000000</td>\n",
              "      <td>302.000000</td>\n",
              "      <td>302.000000</td>\n",
              "      <td>302.000000</td>\n",
              "      <td>302.000000</td>\n",
              "    </tr>\n",
              "    <tr>\n",
              "      <th>mean</th>\n",
              "      <td>54.42053</td>\n",
              "      <td>0.682119</td>\n",
              "      <td>0.963576</td>\n",
              "      <td>131.602649</td>\n",
              "      <td>246.500000</td>\n",
              "      <td>0.149007</td>\n",
              "      <td>0.526490</td>\n",
              "      <td>149.569536</td>\n",
              "      <td>0.327815</td>\n",
              "      <td>1.043046</td>\n",
              "      <td>1.397351</td>\n",
              "      <td>0.718543</td>\n",
              "      <td>2.314570</td>\n",
              "      <td>0.543046</td>\n",
              "    </tr>\n",
              "    <tr>\n",
              "      <th>std</th>\n",
              "      <td>9.04797</td>\n",
              "      <td>0.466426</td>\n",
              "      <td>1.032044</td>\n",
              "      <td>17.563394</td>\n",
              "      <td>51.753489</td>\n",
              "      <td>0.356686</td>\n",
              "      <td>0.526027</td>\n",
              "      <td>22.903527</td>\n",
              "      <td>0.470196</td>\n",
              "      <td>1.161452</td>\n",
              "      <td>0.616274</td>\n",
              "      <td>1.006748</td>\n",
              "      <td>0.613026</td>\n",
              "      <td>0.498970</td>\n",
              "    </tr>\n",
              "    <tr>\n",
              "      <th>min</th>\n",
              "      <td>29.00000</td>\n",
              "      <td>0.000000</td>\n",
              "      <td>0.000000</td>\n",
              "      <td>94.000000</td>\n",
              "      <td>126.000000</td>\n",
              "      <td>0.000000</td>\n",
              "      <td>0.000000</td>\n",
              "      <td>71.000000</td>\n",
              "      <td>0.000000</td>\n",
              "      <td>0.000000</td>\n",
              "      <td>0.000000</td>\n",
              "      <td>0.000000</td>\n",
              "      <td>0.000000</td>\n",
              "      <td>0.000000</td>\n",
              "    </tr>\n",
              "    <tr>\n",
              "      <th>25%</th>\n",
              "      <td>48.00000</td>\n",
              "      <td>0.000000</td>\n",
              "      <td>0.000000</td>\n",
              "      <td>120.000000</td>\n",
              "      <td>211.000000</td>\n",
              "      <td>0.000000</td>\n",
              "      <td>0.000000</td>\n",
              "      <td>133.250000</td>\n",
              "      <td>0.000000</td>\n",
              "      <td>0.000000</td>\n",
              "      <td>1.000000</td>\n",
              "      <td>0.000000</td>\n",
              "      <td>2.000000</td>\n",
              "      <td>0.000000</td>\n",
              "    </tr>\n",
              "    <tr>\n",
              "      <th>50%</th>\n",
              "      <td>55.50000</td>\n",
              "      <td>1.000000</td>\n",
              "      <td>1.000000</td>\n",
              "      <td>130.000000</td>\n",
              "      <td>240.500000</td>\n",
              "      <td>0.000000</td>\n",
              "      <td>1.000000</td>\n",
              "      <td>152.500000</td>\n",
              "      <td>0.000000</td>\n",
              "      <td>0.800000</td>\n",
              "      <td>1.000000</td>\n",
              "      <td>0.000000</td>\n",
              "      <td>2.000000</td>\n",
              "      <td>1.000000</td>\n",
              "    </tr>\n",
              "    <tr>\n",
              "      <th>75%</th>\n",
              "      <td>61.00000</td>\n",
              "      <td>1.000000</td>\n",
              "      <td>2.000000</td>\n",
              "      <td>140.000000</td>\n",
              "      <td>274.750000</td>\n",
              "      <td>0.000000</td>\n",
              "      <td>1.000000</td>\n",
              "      <td>166.000000</td>\n",
              "      <td>1.000000</td>\n",
              "      <td>1.600000</td>\n",
              "      <td>2.000000</td>\n",
              "      <td>1.000000</td>\n",
              "      <td>3.000000</td>\n",
              "      <td>1.000000</td>\n",
              "    </tr>\n",
              "    <tr>\n",
              "      <th>max</th>\n",
              "      <td>77.00000</td>\n",
              "      <td>1.000000</td>\n",
              "      <td>3.000000</td>\n",
              "      <td>200.000000</td>\n",
              "      <td>564.000000</td>\n",
              "      <td>1.000000</td>\n",
              "      <td>2.000000</td>\n",
              "      <td>202.000000</td>\n",
              "      <td>1.000000</td>\n",
              "      <td>6.200000</td>\n",
              "      <td>2.000000</td>\n",
              "      <td>4.000000</td>\n",
              "      <td>3.000000</td>\n",
              "      <td>1.000000</td>\n",
              "    </tr>\n",
              "  </tbody>\n",
              "</table>\n",
              "</div>\n",
              "      <button class=\"colab-df-convert\" onclick=\"convertToInteractive('df-81f39440-e3b2-4961-91c6-03b5f15cbdb8')\"\n",
              "              title=\"Convert this dataframe to an interactive table.\"\n",
              "              style=\"display:none;\">\n",
              "        \n",
              "  <svg xmlns=\"http://www.w3.org/2000/svg\" height=\"24px\"viewBox=\"0 0 24 24\"\n",
              "       width=\"24px\">\n",
              "    <path d=\"M0 0h24v24H0V0z\" fill=\"none\"/>\n",
              "    <path d=\"M18.56 5.44l.94 2.06.94-2.06 2.06-.94-2.06-.94-.94-2.06-.94 2.06-2.06.94zm-11 1L8.5 8.5l.94-2.06 2.06-.94-2.06-.94L8.5 2.5l-.94 2.06-2.06.94zm10 10l.94 2.06.94-2.06 2.06-.94-2.06-.94-.94-2.06-.94 2.06-2.06.94z\"/><path d=\"M17.41 7.96l-1.37-1.37c-.4-.4-.92-.59-1.43-.59-.52 0-1.04.2-1.43.59L10.3 9.45l-7.72 7.72c-.78.78-.78 2.05 0 2.83L4 21.41c.39.39.9.59 1.41.59.51 0 1.02-.2 1.41-.59l7.78-7.78 2.81-2.81c.8-.78.8-2.07 0-2.86zM5.41 20L4 18.59l7.72-7.72 1.47 1.35L5.41 20z\"/>\n",
              "  </svg>\n",
              "      </button>\n",
              "      \n",
              "  <style>\n",
              "    .colab-df-container {\n",
              "      display:flex;\n",
              "      flex-wrap:wrap;\n",
              "      gap: 12px;\n",
              "    }\n",
              "\n",
              "    .colab-df-convert {\n",
              "      background-color: #E8F0FE;\n",
              "      border: none;\n",
              "      border-radius: 50%;\n",
              "      cursor: pointer;\n",
              "      display: none;\n",
              "      fill: #1967D2;\n",
              "      height: 32px;\n",
              "      padding: 0 0 0 0;\n",
              "      width: 32px;\n",
              "    }\n",
              "\n",
              "    .colab-df-convert:hover {\n",
              "      background-color: #E2EBFA;\n",
              "      box-shadow: 0px 1px 2px rgba(60, 64, 67, 0.3), 0px 1px 3px 1px rgba(60, 64, 67, 0.15);\n",
              "      fill: #174EA6;\n",
              "    }\n",
              "\n",
              "    [theme=dark] .colab-df-convert {\n",
              "      background-color: #3B4455;\n",
              "      fill: #D2E3FC;\n",
              "    }\n",
              "\n",
              "    [theme=dark] .colab-df-convert:hover {\n",
              "      background-color: #434B5C;\n",
              "      box-shadow: 0px 1px 3px 1px rgba(0, 0, 0, 0.15);\n",
              "      filter: drop-shadow(0px 1px 2px rgba(0, 0, 0, 0.3));\n",
              "      fill: #FFFFFF;\n",
              "    }\n",
              "  </style>\n",
              "\n",
              "      <script>\n",
              "        const buttonEl =\n",
              "          document.querySelector('#df-81f39440-e3b2-4961-91c6-03b5f15cbdb8 button.colab-df-convert');\n",
              "        buttonEl.style.display =\n",
              "          google.colab.kernel.accessAllowed ? 'block' : 'none';\n",
              "\n",
              "        async function convertToInteractive(key) {\n",
              "          const element = document.querySelector('#df-81f39440-e3b2-4961-91c6-03b5f15cbdb8');\n",
              "          const dataTable =\n",
              "            await google.colab.kernel.invokeFunction('convertToInteractive',\n",
              "                                                     [key], {});\n",
              "          if (!dataTable) return;\n",
              "\n",
              "          const docLinkHtml = 'Like what you see? Visit the ' +\n",
              "            '<a target=\"_blank\" href=https://colab.research.google.com/notebooks/data_table.ipynb>data table notebook</a>'\n",
              "            + ' to learn more about interactive tables.';\n",
              "          element.innerHTML = '';\n",
              "          dataTable['output_type'] = 'display_data';\n",
              "          await google.colab.output.renderOutput(dataTable, element);\n",
              "          const docLink = document.createElement('div');\n",
              "          docLink.innerHTML = docLinkHtml;\n",
              "          element.appendChild(docLink);\n",
              "        }\n",
              "      </script>\n",
              "    </div>\n",
              "  </div>\n",
              "  "
            ]
          },
          "metadata": {},
          "execution_count": 13
        }
      ]
    },
    {
      "cell_type": "markdown",
      "source": [
        "**2) Analysis a Target Count**"
      ],
      "metadata": {
        "id": "Tgeb56tnDd4h"
      }
    },
    {
      "cell_type": "code",
      "source": [
        "breast_cancer_data.target.value_counts()"
      ],
      "metadata": {
        "colab": {
          "base_uri": "https://localhost:8080/"
        },
        "id": "pYw_-W9jDXgJ",
        "outputId": "2f8692a3-8987-4c17-dac2-b43748db5451"
      },
      "execution_count": 14,
      "outputs": [
        {
          "output_type": "execute_result",
          "data": {
            "text/plain": [
              "1    164\n",
              "0    138\n",
              "Name: target, dtype: int64"
            ]
          },
          "metadata": {},
          "execution_count": 14
        }
      ]
    },
    {
      "cell_type": "markdown",
      "source": [
        "**3) Visualization of Target Count Plot**"
      ],
      "metadata": {
        "id": "bwp4dL7aDiVB"
      }
    },
    {
      "cell_type": "code",
      "source": [
        "plt.figure(figsize=(15, 5))\n",
        "\n",
        "sns.set_style('darkgrid')\n",
        "\n",
        "plt.subplot(1, 2, 1)\n",
        "plt.hist(breast_cancer_data.target)\n",
        "\n",
        "plt.title(\"Counts of Target\")\n",
        "plt.xlabel(\"Target\")\n",
        "\n",
        "\n",
        "plt.subplot(1, 2, 2)\n",
        "\n",
        "sns.countplot('target', data=breast_cancer_data)\n",
        "plt.title(\"Counts of Target\")"
      ],
      "metadata": {
        "colab": {
          "base_uri": "https://localhost:8080/",
          "height": 368
        },
        "id": "5VmEsDlcDgJJ",
        "outputId": "2301279e-f800-42f1-8fae-16a7421b343c"
      },
      "execution_count": 15,
      "outputs": [
        {
          "output_type": "execute_result",
          "data": {
            "text/plain": [
              "Text(0.5, 1.0, 'Counts of Target')"
            ]
          },
          "metadata": {},
          "execution_count": 15
        },
        {
          "output_type": "display_data",
          "data": {
            "text/plain": [
              "<Figure size 1080x360 with 2 Axes>"
            ],
            "image/png": "[encoded data removed]"
          },
          "metadata": {
            "needs_background": "light"
          }
        }
      ]
    },
    {
      "cell_type": "code",
      "source": [
        "import plotly.express as px\n",
        "plt.figure(figsize=(8,8))\n",
        "px.histogram(breast_cancer_data, x='target')"
      ],
      "metadata": {
        "colab": {
          "base_uri": "https://localhost:8080/",
          "height": 560
        },
        "id": "M0Myh8YWDlj1",
        "outputId": "5cdb752f-2db5-4c1b-d11d-29a5eed36a07"
      },
      "execution_count": 17,
      "outputs": [
        {
          "output_type": "display_data",
          "data": {
            "text/html": [
              "<html>\n",
              "<head><meta charset=\"utf-8\" /></head>\n",
              "<body>\n",
              "    <div>            <script src=\"https://cdnjs.cloudflare.com/ajax/libs/mathjax/2.7.5/MathJax.js?config=TeX-AMS-MML_SVG\"></script><script type=\"text/javascript\">if (window.MathJax) {MathJax.Hub.Config({SVG: {font: \"STIX-Web\"}});}</script>                <script type=\"text/javascript\">window.PlotlyConfig = {MathJaxConfig: 'local'};</script>\n",
              "        <script src=\"https://cdn.plot.ly/plotly-2.8.3.min.js\"></script>                <div id=\"b01615ee-293d-4c2d-a103-1511ef6bfa02\" class=\"plotly-graph-div\" style=\"height:525px; width:100%;\"></div>            <script type=\"text/javascript\">                                    window.PLOTLYENV=window.PLOTLYENV || {};                                    if (document.getElementById(\"b01615ee-293d-4c2d-a103-1511ef6bfa02\")) {                    Plotly.newPlot(                        \"b01615ee-293d-4c2d-a103-1511ef6bfa02\",                        [{\"alignmentgroup\":\"True\",\"bingroup\":\"x\",\"hovertemplate\":\"target=%{x}<br>count=%{y}<extra></extra>\",\"legendgroup\":\"\",\"marker\":{\"color\":\"#636efa\",\"pattern\":{\"shape\":\"\"}},\"name\":\"\",\"offsetgroup\":\"\",\"orientation\":\"v\",\"showlegend\":false,\"x\":[1,1,1,1,1,1,1,1,1,1,1,1,1,1,1,1,1,1,1,1,1,1,1,1,1,1,1,1,1,1,1,1,1,1,1,1,1,1,1,1,1,1,1,1,1,1,1,1,1,1,1,1,1,1,1,1,1,1,1,1,1,1,1,1,1,1,1,1,1,1,1,1,1,1,1,1,1,1,1,1,1,1,1,1,1,1,1,1,1,1,1,1,1,1,1,1,1,1,1,1,1,1,1,1,1,1,1,1,1,1,1,1,1,1,1,1,1,1,1,1,1,1,1,1,1,1,1,1,1,1,1,1,1,1,1,1,1,1,1,1,1,1,1,1,1,1,1,1,1,1,1,1,1,1,1,1,1,1,1,1,1,1,1,1,0,0,0,0,0,0,0,0,0,0,0,0,0,0,0,0,0,0,0,0,0,0,0,0,0,0,0,0,0,0,0,0,0,0,0,0,0,0,0,0,0,0,0,0,0,0,0,0,0,0,0,0,0,0,0,0,0,0,0,0,0,0,0,0,0,0,0,0,0,0,0,0,0,0,0,0,0,0,0,0,0,0,0,0,0,0,0,0,0,0,0,0,0,0,0,0,0,0,0,0,0,0,0,0,0,0,0,0,0,0,0,0,0,0,0,0,0,0,0,0,0,0,0,0,0,0,0,0,0,0,0,0,0,0,0,0,0,0],\"xaxis\":\"x\",\"yaxis\":\"y\",\"type\":\"histogram\"}],                        {\"template\":{\"data\":{\"bar\":[{\"error_x\":{\"color\":\"#2a3f5f\"},\"error_y\":{\"color\":\"#2a3f5f\"},\"marker\":{\"line\":{\"color\":\"#E5ECF6\",\"width\":0.5},\"pattern\":{\"fillmode\":\"overlay\",\"size\":10,\"solidity\":0.2}},\"type\":\"bar\"}],\"barpolar\":[{\"marker\":{\"line\":{\"color\":\"#E5ECF6\",\"width\":0.5},\"pattern\":{\"fillmode\":\"overlay\",\"size\":10,\"solidity\":0.2}},\"type\":\"barpolar\"}],\"carpet\":[{\"aaxis\":{\"endlinecolor\":\"#2a3f5f\",\"gridcolor\":\"white\",\"linecolor\":\"white\",\"minorgridcolor\":\"white\",\"startlinecolor\":\"#2a3f5f\"},\"baxis\":{\"endlinecolor\":\"#2a3f5f\",\"gridcolor\":\"white\",\"linecolor\":\"white\",\"minorgridcolor\":\"white\",\"startlinecolor\":\"#2a3f5f\"},\"type\":\"carpet\"}],\"choropleth\":[{\"colorbar\":{\"outlinewidth\":0,\"ticks\":\"\"},\"type\":\"choropleth\"}],\"contour\":[{\"colorbar\":{\"outlinewidth\":0,\"ticks\":\"\"},\"colorscale\":[[0.0,\"#0d0887\"],[0.1111111111111111,\"#46039f\"],[0.2222222222222222,\"#7201a8\"],[0.3333333333333333,\"#9c179e\"],[0.4444444444444444,\"#bd3786\"],[0.5555555555555556,\"#d8576b\"],[0.6666666666666666,\"#ed7953\"],[0.7777777777777778,\"#fb9f3a\"],[0.8888888888888888,\"#fdca26\"],[1.0,\"#f0f921\"]],\"type\":\"contour\"}],\"contourcarpet\":[{\"colorbar\":{\"outlinewidth\":0,\"ticks\":\"\"},\"type\":\"contourcarpet\"}],\"heatmap\":[{\"colorbar\":{\"outlinewidth\":0,\"ticks\":\"\"},\"colorscale\":[[0.0,\"#0d0887\"],[0.1111111111111111,\"#46039f\"],[0.2222222222222222,\"#7201a8\"],[0.3333333333333333,\"#9c179e\"],[0.4444444444444444,\"#bd3786\"],[0.5555555555555556,\"#d8576b\"],[0.6666666666666666,\"#ed7953\"],[0.7777777777777778,\"#fb9f3a\"],[0.8888888888888888,\"#fdca26\"],[1.0,\"#f0f921\"]],\"type\":\"heatmap\"}],\"heatmapgl\":[{\"colorbar\":{\"outlinewidth\":0,\"ticks\":\"\"},\"colorscale\":[[0.0,\"#0d0887\"],[0.1111111111111111,\"#46039f\"],[0.2222222222222222,\"#7201a8\"],[0.3333333333333333,\"#9c179e\"],[0.4444444444444444,\"#bd3786\"],[0.5555555555555556,\"#d8576b\"],[0.6666666666666666,\"#ed7953\"],[0.7777777777777778,\"#fb9f3a\"],[0.8888888888888888,\"#fdca26\"],[1.0,\"#f0f921\"]],\"type\":\"heatmapgl\"}],\"histogram\":[{\"marker\":{\"pattern\":{\"fillmode\":\"overlay\",\"size\":10,\"solidity\":0.2}},\"type\":\"histogram\"}],\"histogram2d\":[{\"colorbar\":{\"outlinewidth\":0,\"ticks\":\"\"},\"colorscale\":[[0.0,\"#0d0887\"],[0.1111111111111111,\"#46039f\"],[0.2222222222222222,\"#7201a8\"],[0.3333333333333333,\"#9c179e\"],[0.4444444444444444,\"#bd3786\"],[0.5555555555555556,\"#d8576b\"],[0.6666666666666666,\"#ed7953\"],[0.7777777777777778,\"#fb9f3a\"],[0.8888888888888888,\"#fdca26\"],[1.0,\"#f0f921\"]],\"type\":\"histogram2d\"}],\"histogram2dcontour\":[{\"colorbar\":{\"outlinewidth\":0,\"ticks\":\"\"},\"colorscale\":[[0.0,\"#0d0887\"],[0.1111111111111111,\"#46039f\"],[0.2222222222222222,\"#7201a8\"],[0.3333333333333333,\"#9c179e\"],[0.4444444444444444,\"#bd3786\"],[0.5555555555555556,\"#d8576b\"],[0.6666666666666666,\"#ed7953\"],[0.7777777777777778,\"#fb9f3a\"],[0.8888888888888888,\"#fdca26\"],[1.0,\"#f0f921\"]],\"type\":\"histogram2dcontour\"}],\"mesh3d\":[{\"colorbar\":{\"outlinewidth\":0,\"ticks\":\"\"},\"type\":\"mesh3d\"}],\"parcoords\":[{\"line\":{\"colorbar\":{\"outlinewidth\":0,\"ticks\":\"\"}},\"type\":\"parcoords\"}],\"pie\":[{\"automargin\":true,\"type\":\"pie\"}],\"scatter\":[{\"marker\":{\"colorbar\":{\"outlinewidth\":0,\"ticks\":\"\"}},\"type\":\"scatter\"}],\"scatter3d\":[{\"line\":{\"colorbar\":{\"outlinewidth\":0,\"ticks\":\"\"}},\"marker\":{\"colorbar\":{\"outlinewidth\":0,\"ticks\":\"\"}},\"type\":\"scatter3d\"}],\"scattercarpet\":[{\"marker\":{\"colorbar\":{\"outlinewidth\":0,\"ticks\":\"\"}},\"type\":\"scattercarpet\"}],\"scattergeo\":[{\"marker\":{\"colorbar\":{\"outlinewidth\":0,\"ticks\":\"\"}},\"type\":\"scattergeo\"}],\"scattergl\":[{\"marker\":{\"colorbar\":{\"outlinewidth\":0,\"ticks\":\"\"}},\"type\":\"scattergl\"}],\"scattermapbox\":[{\"marker\":{\"colorbar\":{\"outlinewidth\":0,\"ticks\":\"\"}},\"type\":\"scattermapbox\"}],\"scatterpolar\":[{\"marker\":{\"colorbar\":{\"outlinewidth\":0,\"ticks\":\"\"}},\"type\":\"scatterpolar\"}],\"scatterpolargl\":[{\"marker\":{\"colorbar\":{\"outlinewidth\":0,\"ticks\":\"\"}},\"type\":\"scatterpolargl\"}],\"scatterternary\":[{\"marker\":{\"colorbar\":{\"outlinewidth\":0,\"ticks\":\"\"}},\"type\":\"scatterternary\"}],\"surface\":[{\"colorbar\":{\"outlinewidth\":0,\"ticks\":\"\"},\"colorscale\":[[0.0,\"#0d0887\"],[0.1111111111111111,\"#46039f\"],[0.2222222222222222,\"#7201a8\"],[0.3333333333333333,\"#9c179e\"],[0.4444444444444444,\"#bd3786\"],[0.5555555555555556,\"#d8576b\"],[0.6666666666666666,\"#ed7953\"],[0.7777777777777778,\"#fb9f3a\"],[0.8888888888888888,\"#fdca26\"],[1.0,\"#f0f921\"]],\"type\":\"surface\"}],\"table\":[{\"cells\":{\"fill\":{\"color\":\"#EBF0F8\"},\"line\":{\"color\":\"white\"}},\"header\":{\"fill\":{\"color\":\"#C8D4E3\"},\"line\":{\"color\":\"white\"}},\"type\":\"table\"}]},\"layout\":{\"annotationdefaults\":{\"arrowcolor\":\"#2a3f5f\",\"arrowhead\":0,\"arrowwidth\":1},\"autotypenumbers\":\"strict\",\"coloraxis\":{\"colorbar\":{\"outlinewidth\":0,\"ticks\":\"\"}},\"colorscale\":{\"diverging\":[[0,\"#8e0152\"],[0.1,\"#c51b7d\"],[0.2,\"#de77ae\"],[0.3,\"#f1b6da\"],[0.4,\"#fde0ef\"],[0.5,\"#f7f7f7\"],[0.6,\"#e6f5d0\"],[0.7,\"#b8e186\"],[0.8,\"#7fbc41\"],[0.9,\"#4d9221\"],[1,\"#276419\"]],\"sequential\":[[0.0,\"#0d0887\"],[0.1111111111111111,\"#46039f\"],[0.2222222222222222,\"#7201a8\"],[0.3333333333333333,\"#9c179e\"],[0.4444444444444444,\"#bd3786\"],[0.5555555555555556,\"#d8576b\"],[0.6666666666666666,\"#ed7953\"],[0.7777777777777778,\"#fb9f3a\"],[0.8888888888888888,\"#fdca26\"],[1.0,\"#f0f921\"]],\"sequentialminus\":[[0.0,\"#0d0887\"],[0.1111111111111111,\"#46039f\"],[0.2222222222222222,\"#7201a8\"],[0.3333333333333333,\"#9c179e\"],[0.4444444444444444,\"#bd3786\"],[0.5555555555555556,\"#d8576b\"],[0.6666666666666666,\"#ed7953\"],[0.7777777777777778,\"#fb9f3a\"],[0.8888888888888888,\"#fdca26\"],[1.0,\"#f0f921\"]]},\"colorway\":[\"#636efa\",\"#EF553B\",\"#00cc96\",\"#ab63fa\",\"#FFA15A\",\"#19d3f3\",\"#FF6692\",\"#B6E880\",\"#FF97FF\",\"#FECB52\"],\"font\":{\"color\":\"#2a3f5f\"},\"geo\":{\"bgcolor\":\"white\",\"lakecolor\":\"white\",\"landcolor\":\"#E5ECF6\",\"showlakes\":true,\"showland\":true,\"subunitcolor\":\"white\"},\"hoverlabel\":{\"align\":\"left\"},\"hovermode\":\"closest\",\"mapbox\":{\"style\":\"light\"},\"paper_bgcolor\":\"white\",\"plot_bgcolor\":\"#E5ECF6\",\"polar\":{\"angularaxis\":{\"gridcolor\":\"white\",\"linecolor\":\"white\",\"ticks\":\"\"},\"bgcolor\":\"#E5ECF6\",\"radialaxis\":{\"gridcolor\":\"white\",\"linecolor\":\"white\",\"ticks\":\"\"}},\"scene\":{\"xaxis\":{\"backgroundcolor\":\"#E5ECF6\",\"gridcolor\":\"white\",\"gridwidth\":2,\"linecolor\":\"white\",\"showbackground\":true,\"ticks\":\"\",\"zerolinecolor\":\"white\"},\"yaxis\":{\"backgroundcolor\":\"#E5ECF6\",\"gridcolor\":\"white\",\"gridwidth\":2,\"linecolor\":\"white\",\"showbackground\":true,\"ticks\":\"\",\"zerolinecolor\":\"white\"},\"zaxis\":{\"backgroundcolor\":\"#E5ECF6\",\"gridcolor\":\"white\",\"gridwidth\":2,\"linecolor\":\"white\",\"showbackground\":true,\"ticks\":\"\",\"zerolinecolor\":\"white\"}},\"shapedefaults\":{\"line\":{\"color\":\"#2a3f5f\"}},\"ternary\":{\"aaxis\":{\"gridcolor\":\"white\",\"linecolor\":\"white\",\"ticks\":\"\"},\"baxis\":{\"gridcolor\":\"white\",\"linecolor\":\"white\",\"ticks\":\"\"},\"bgcolor\":\"#E5ECF6\",\"caxis\":{\"gridcolor\":\"white\",\"linecolor\":\"white\",\"ticks\":\"\"}},\"title\":{\"x\":0.05},\"xaxis\":{\"automargin\":true,\"gridcolor\":\"white\",\"linecolor\":\"white\",\"ticks\":\"\",\"title\":{\"standoff\":15},\"zerolinecolor\":\"white\",\"zerolinewidth\":2},\"yaxis\":{\"automargin\":true,\"gridcolor\":\"white\",\"linecolor\":\"white\",\"ticks\":\"\",\"title\":{\"standoff\":15},\"zerolinecolor\":\"white\",\"zerolinewidth\":2}}},\"xaxis\":{\"anchor\":\"y\",\"domain\":[0.0,1.0],\"title\":{\"text\":\"target\"}},\"yaxis\":{\"anchor\":\"x\",\"domain\":[0.0,1.0],\"title\":{\"text\":\"count\"}},\"legend\":{\"tracegroupgap\":0},\"margin\":{\"t\":60},\"barmode\":\"relative\"},                        {\"responsive\": true}                    ).then(function(){\n",
              "                            \n",
              "var gd = document.getElementById('b01615ee-293d-4c2d-a103-1511ef6bfa02');\n",
              "var x = new MutationObserver(function (mutations, observer) {{\n",
              "        var display = window.getComputedStyle(gd).display;\n",
              "        if (!display || display === 'none') {{\n",
              "            console.log([gd, 'removed!']);\n",
              "            Plotly.purge(gd);\n",
              "            observer.disconnect();\n",
              "        }}\n",
              "}});\n",
              "\n",
              "// Listen for the removal of the full notebook cells\n",
              "var notebookContainer = gd.closest('#notebook-container');\n",
              "if (notebookContainer) {{\n",
              "    x.observe(notebookContainer, {childList: true});\n",
              "}}\n",
              "\n",
              "// Listen for the clearing of the current output cell\n",
              "var outputEl = gd.closest('.output');\n",
              "if (outputEl) {{\n",
              "    x.observe(outputEl, {childList: true});\n",
              "}}\n",
              "\n",
              "                        })                };                            </script>        </div>\n",
              "</body>\n",
              "</html>"
            ]
          },
          "metadata": {}
        },
        {
          "output_type": "display_data",
          "data": {
            "text/plain": [
              "<Figure size 576x576 with 0 Axes>"
            ]
          },
          "metadata": {}
        }
      ]
    },
    {
      "cell_type": "markdown",
      "source": [
        "**4) Visualization Pair Plot of Some Features**"
      ],
      "metadata": {
        "id": "HnGy9TGcDuNR"
      }
    },
    {
      "cell_type": "code",
      "source": [
        "breast_cancer_data.columns"
      ],
      "metadata": {
        "colab": {
          "base_uri": "https://localhost:8080/"
        },
        "id": "t9dRbYIwDofp",
        "outputId": "d1f7b4f0-3d3b-421c-d1ac-5ce165cfef8a"
      },
      "execution_count": 18,
      "outputs": [
        {
          "output_type": "execute_result",
          "data": {
            "text/plain": [
              "Index(['age', 'sex', 'cp', 'trestbps', 'chol', 'fbs', 'restecg', 'thalach',\n",
              "       'exang', 'oldpeak', 'slope', 'ca', 'thal', 'target'],\n",
              "      dtype='object')"
            ]
          },
          "metadata": {},
          "execution_count": 18
        }
      ]
    },
    {
      "cell_type": "code",
      "source": [
        "cols = [\"target\", \"chol\", \"trestbps\", \"oldpeak\",\"thal\"]\n",
        "\n",
        "sns.pairplot(breast_cancer_data[cols], hue=\"target\")\n",
        "plt.show()"
      ],
      "metadata": {
        "colab": {
          "base_uri": "https://localhost:8080/",
          "height": 726
        },
        "id": "QCFeSOM4Dxdc",
        "outputId": "2b6c1228-72e7-4d2a-da6a-edbbe288d494"
      },
      "execution_count": 19,
      "outputs": [
        {
          "output_type": "display_data",
          "data": {
            "text/plain": [
              "<Figure size 762.375x720 with 20 Axes>"
            ],
            "image/png": "[encoded data removed]"
          },
          "metadata": {}
        }
      ]
    },
    {
      "cell_type": "markdown",
      "source": [
        "**5) Visualization of Correlation**"
      ],
      "metadata": {
        "id": "FQIA4Qa3D8vp"
      }
    },
    {
      "cell_type": "code",
      "source": [
        "plt.figure(figsize=(12, 9))\n",
        "\n",
        "plt.title(\"Correlation Graph\")\n",
        "\n",
        "cmap = sns.diverging_palette( 1000, 120, as_cmap=True)\n",
        "sns.heatmap(breast_cancer_data[cols].corr(), annot=True, fmt='.1%',  linewidths=.05, cmap=cmap)"
      ],
      "metadata": {
        "colab": {
          "base_uri": "https://localhost:8080/",
          "height": 571
        },
        "id": "j4u4dmHCDzs-",
        "outputId": "8ac0a119-1569-4ad1-941e-ebaa63d69e5d"
      },
      "execution_count": 20,
      "outputs": [
        {
          "output_type": "execute_result",
          "data": {
            "text/plain": [
              "<matplotlib.axes._subplots.AxesSubplot at 0x7f115c44ebd0>"
            ]
          },
          "metadata": {},
          "execution_count": 20
        },
        {
          "output_type": "display_data",
          "data": {
            "text/plain": [
              "<Figure size 864x648 with 2 Axes>"
            ],
            "image/png": "[encoded data removed]"
          },
          "metadata": {}
        }
      ]
    },
    {
      "cell_type": "markdown",
      "source": [
        "# **5) Train and Test Split**"
      ],
      "metadata": {
        "id": "6sAzgKwlEFyg"
      }
    },
    {
      "cell_type": "code",
      "source": [
        "breast_cancer_data.columns"
      ],
      "metadata": {
        "colab": {
          "base_uri": "https://localhost:8080/"
        },
        "id": "orR3SbobD_Pl",
        "outputId": "de0e7aae-a3e9-4cdd-8be5-294190a706a9"
      },
      "execution_count": 21,
      "outputs": [
        {
          "output_type": "execute_result",
          "data": {
            "text/plain": [
              "Index(['age', 'sex', 'cp', 'trestbps', 'chol', 'fbs', 'restecg', 'thalach',\n",
              "       'exang', 'oldpeak', 'slope', 'ca', 'thal', 'target'],\n",
              "      dtype='object')"
            ]
          },
          "metadata": {},
          "execution_count": 21
        }
      ]
    },
    {
      "cell_type": "code",
      "source": [
        "X = breast_cancer_data.drop(columns=[\"age\",\"sex\",\"target\"],axis=1)\n",
        "y = breast_cancer_data[\"target\"]"
      ],
      "metadata": {
        "id": "r9yMUKwUEJAG"
      },
      "execution_count": 22,
      "outputs": []
    },
    {
      "cell_type": "code",
      "source": [
        "X_train,X_test,y_train,y_test = train_test_split(X,y,test_size=0.25,random_state=7)"
      ],
      "metadata": {
        "id": "nsqo9qvUEKrB"
      },
      "execution_count": 23,
      "outputs": []
    },
    {
      "cell_type": "markdown",
      "source": [
        "# **6) Feature Scaling**"
      ],
      "metadata": {
        "id": "gKrtrjFDEOs6"
      }
    },
    {
      "cell_type": "markdown",
      "source": [
        "**Feature Scaling** is a Techique to Standardize the Independent Features Present in the data in a Fixed Range."
      ],
      "metadata": {
        "id": "xPUBt_x2ESaL"
      }
    },
    {
      "cell_type": "code",
      "source": [
        "from sklearn.preprocessing import StandardScaler\n",
        "scaler = StandardScaler()\n",
        "scaler.fit_transform(X_train)\n",
        "scaler.transform(X_test)"
      ],
      "metadata": {
        "colab": {
          "base_uri": "https://localhost:8080/"
        },
        "id": "Df0BwF5PEMdX",
        "outputId": "93281b61-9f2e-4c32-9b92-4b0de68fdb46"
      },
      "execution_count": 24,
      "outputs": [
        {
          "output_type": "execute_result",
          "data": {
            "text/plain": [
              "array([[-9.61565464e-01, -1.28091101e+00, -1.69672381e-01,\n",
              "        -4.42455869e-01,  8.95287276e-01, -1.07679746e+00,\n",
              "         1.46249406e+00,  1.56449014e+00, -5.86825280e-01,\n",
              "         2.98555910e-01,  1.14285714e+00],\n",
              "       [-9.61565464e-01, -9.87314773e-01,  2.31956107e-01,\n",
              "        -4.42455869e-01, -9.78184246e-01,  1.57277208e+00,\n",
              "        -6.83763459e-01, -8.86634796e-01,  1.01103633e+00,\n",
              "        -6.93703437e-01, -4.71428571e-01],\n",
              "       [-9.61565464e-01, -1.28091101e+00, -8.00802862e-01,\n",
              "        -4.42455869e-01, -9.78184246e-01, -1.88514071e+00,\n",
              "         1.46249406e+00, -8.86634796e-01, -5.86825280e-01,\n",
              "         2.98555910e-01, -4.71428571e-01],\n",
              "       [ 9.36371609e-01, -1.86810348e+00, -4.94800204e-01,\n",
              "        -4.42455869e-01,  8.95287276e-01, -3.13362170e-01,\n",
              "         1.46249406e+00,  1.63847321e-01, -5.86825280e-01,\n",
              "        -6.93703437e-01, -4.71428571e-01],\n",
              "       [-1.25969275e-02, -1.06526068e-01,  2.70206440e-01,\n",
              "        -4.42455869e-01,  8.95287276e-01,  2.25533331e-01,\n",
              "        -6.83763459e-01, -8.86634796e-01,  1.01103633e+00,\n",
              "        -6.93703437e-01, -4.71428571e-01],\n",
              "       [ 9.36371609e-01, -1.16347251e+00, -3.41798876e-01,\n",
              "        -4.42455869e-01, -9.78184246e-01,  6.74612915e-01,\n",
              "        -6.83763459e-01,  1.30186961e+00, -5.86825280e-01,\n",
              "         2.98555910e-01,  1.14285714e+00],\n",
              "       [-9.61565464e-01,  4.80666403e-01, -1.35543268e+00,\n",
              "        -4.42455869e-01,  8.95287276e-01,  5.39889040e-01,\n",
              "         1.46249406e+00, -8.86634796e-01,  1.01103633e+00,\n",
              "         2.98555910e-01,  1.14285714e+00],\n",
              "       [ 1.88534015e+00,  1.65505134e+00,  4.80583267e-01,\n",
              "        -4.42455869e-01, -9.78184246e-01, -1.12170542e+00,\n",
              "        -6.83763459e-01, -8.86634796e-01,  1.01103633e+00,\n",
              "        -6.93703437e-01, -4.71428571e-01],\n",
              "       [ 9.36371609e-01,  1.06785887e+00, -3.03548543e-01,\n",
              "        -4.42455869e-01, -9.78184246e-01,  6.74612915e-01,\n",
              "        -6.83763459e-01,  5.14008027e-01,  1.01103633e+00,\n",
              "        -6.93703437e-01,  1.14285714e+00],\n",
              "       [-9.61565464e-01,  1.09124264e-02,  2.01059655e+00,\n",
              "        -4.42455869e-01,  8.95287276e-01, -8.07349712e-01,\n",
              "         1.46249406e+00,  1.63847321e-01, -5.86825280e-01,\n",
              "         2.98555910e-01,  1.14285714e+00],\n",
              "       [-1.25969275e-02, -2.23964562e-01,  1.14996408e+00,\n",
              "        -4.42455869e-01, -9.78184246e-01,  8.99152707e-01,\n",
              "        -6.83763459e-01, -8.86634796e-01,  1.01103633e+00,\n",
              "        -6.93703437e-01, -4.71428571e-01],\n",
              "       [-9.61565464e-01,  7.74262638e-01, -6.86051865e-01,\n",
              "        -4.42455869e-01, -9.78184246e-01, -8.07349712e-01,\n",
              "        -6.83763459e-01,  8.64168733e-01, -5.86825280e-01,\n",
              "         1.29081526e+00, -2.08571429e+00],\n",
              "       [-9.61565464e-01, -6.93718538e-01, -2.07922713e-01,\n",
              "        -4.42455869e-01,  8.95287276e-01, -3.54673517e+00,\n",
              "        -6.83763459e-01, -1.12330315e-02, -5.86825280e-01,\n",
              "        -6.93703437e-01, -4.71428571e-01],\n",
              "       [-1.25969275e-02, -6.93718538e-01, -7.40465502e-02,\n",
              "        -4.42455869e-01,  8.95287276e-01,  5.39889040e-01,\n",
              "        -6.83763459e-01,  7.63071449e-02,  1.01103633e+00,\n",
              "        -6.93703437e-01, -4.71428571e-01],\n",
              "       [-9.61565464e-01,  4.80666403e-01,  1.20733958e+00,\n",
              "        -4.42455869e-01,  8.95287276e-01, -1.34624521e+00,\n",
              "         1.46249406e+00,  6.89088380e-01, -5.86825280e-01,\n",
              "         1.29081526e+00,  1.14285714e+00],\n",
              "       [-9.61565464e-01, -2.23964562e-01,  2.12830941e-01,\n",
              "        -4.42455869e-01, -9.78184246e-01, -8.97165629e-01,\n",
              "         1.46249406e+00,  1.73957050e+00, -5.86825280e-01,\n",
              "         1.29081526e+00,  1.14285714e+00],\n",
              "       [-1.25969275e-02, -6.93718538e-01, -2.27047879e-01,\n",
              "        -4.42455869e-01,  8.95287276e-01,  1.25841637e+00,\n",
              "        -6.83763459e-01, -1.86313384e-01,  1.01103633e+00,\n",
              "        -6.93703437e-01, -4.71428571e-01],\n",
              "       [ 9.36371609e-01, -1.16347251e+00,  4.07044464e-02,\n",
              "        -4.42455869e-01,  8.95287276e-01,  1.30332433e+00,\n",
              "        -6.83763459e-01, -8.86634796e-01,  1.01103633e+00,\n",
              "        -6.93703437e-01, -4.71428571e-01],\n",
              "       [-9.61565464e-01,  7.15543391e-01, -1.04943002e+00,\n",
              "         2.26011241e+00,  8.95287276e-01, -4.03178087e-01,\n",
              "        -6.83763459e-01,  2.08973120e+00, -5.86825280e-01,\n",
              "         1.29081526e+00,  1.14285714e+00],\n",
              "       [-9.61565464e-01, -1.06526068e-01,  1.57071773e+00,\n",
              "        -4.42455869e-01, -9.78184246e-01,  8.54244748e-01,\n",
              "        -6.83763459e-01, -8.86634796e-01,  1.01103633e+00,\n",
              "        -6.93703437e-01, -4.71428571e-01],\n",
              "       [-9.61565464e-01,  1.09124264e-02, -7.81677696e-01,\n",
              "        -4.42455869e-01,  8.95287276e-01,  8.09336790e-01,\n",
              "         1.46249406e+00, -8.86634796e-01,  1.01103633e+00,\n",
              "        -6.93703437e-01,  1.14285714e+00],\n",
              "       [ 9.36371609e-01, -4.58841550e-01,  1.36330277e-01,\n",
              "         2.26011241e+00,  8.95287276e-01,  1.12369250e+00,\n",
              "        -6.83763459e-01, -8.86634796e-01,  1.01103633e+00,\n",
              "         1.29081526e+00, -4.71428571e-01],\n",
              "       [-9.61565464e-01, -1.86810348e+00, -2.65298211e-01,\n",
              "        -4.42455869e-01,  8.95287276e-01,  2.70441289e-01,\n",
              "        -6.83763459e-01, -7.99094619e-01,  1.01103633e+00,\n",
              "         2.98555910e-01,  1.14285714e+00],\n",
              "       [ 9.36371609e-01, -1.06526068e-01,  9.80799447e-02,\n",
              "        -4.42455869e-01,  8.95287276e-01,  1.30332433e+00,\n",
              "        -6.83763459e-01, -8.86634796e-01,  1.01103633e+00,\n",
              "        -6.93703437e-01, -4.71428571e-01],\n",
              "       [ 9.36371609e-01, -5.76280044e-01, -6.66926699e-01,\n",
              "        -4.42455869e-01,  8.95287276e-01,  6.74612915e-01,\n",
              "        -6.83763459e-01, -7.11554443e-01, -5.86825280e-01,\n",
              "        -6.93703437e-01, -4.71428571e-01],\n",
              "       [-9.61565464e-01,  4.80666403e-01, -1.16418102e+00,\n",
              "        -4.42455869e-01, -9.78184246e-01, -2.68454211e-01,\n",
              "         1.46249406e+00,  2.61497226e+00,  1.01103633e+00,\n",
              "         1.29081526e+00,  1.14285714e+00],\n",
              "       [ 9.36371609e-01, -6.93718538e-01, -4.18299540e-01,\n",
              "        -4.42455869e-01,  8.95287276e-01,  8.54244748e-01,\n",
              "        -6.83763459e-01, -8.86634796e-01,  1.01103633e+00,\n",
              "        -6.93703437e-01, -4.71428571e-01],\n",
              "       [-1.25969275e-02,  4.80666403e-01, -1.01117969e+00,\n",
              "        -4.42455869e-01,  8.95287276e-01,  1.30332433e+00,\n",
              "        -6.83763459e-01, -8.86634796e-01,  1.01103633e+00,\n",
              "         1.29081526e+00, -4.71428571e-01],\n",
              "       [-9.61565464e-01,  3.63227909e-01, -1.24068168e+00,\n",
              "        -4.42455869e-01,  8.95287276e-01,  1.43804821e+00,\n",
              "        -6.83763459e-01,  3.38927674e-01,  1.01103633e+00,\n",
              "        -6.93703437e-01, -4.71428571e-01],\n",
              "       [ 9.36371609e-01, -1.65245315e-01, -9.92054523e-01,\n",
              "        -4.42455869e-01,  8.95287276e-01,  5.84796998e-01,\n",
              "        -6.83763459e-01, -8.86634796e-01,  1.01103633e+00,\n",
              "        -6.93703437e-01, -4.71428571e-01],\n",
              "       [ 9.36371609e-01, -1.28091101e+00, -6.47801533e-01,\n",
              "        -4.42455869e-01,  8.95287276e-01,  3.60257206e-01,\n",
              "        -6.83763459e-01,  5.14008027e-01, -5.86825280e-01,\n",
              "        -6.93703437e-01, -4.71428571e-01],\n",
              "       [ 1.88534015e+00,  1.06785887e+00,  6.71834928e-01,\n",
              "         2.26011241e+00, -9.78184246e-01,  5.39889040e-01,\n",
              "        -6.83763459e-01, -1.12330315e-02,  1.01103633e+00,\n",
              "        -6.93703437e-01, -4.71428571e-01],\n",
              "       [-9.61565464e-01, -9.87314773e-01,  1.05433825e+00,\n",
              "        -4.42455869e-01,  8.95287276e-01,  1.39314025e+00,\n",
              "        -6.83763459e-01,  1.63847321e-01, -5.86825280e-01,\n",
              "        -6.93703437e-01, -4.71428571e-01],\n",
              "       [-1.25969275e-02,  1.09124264e-02,  1.80021973e+00,\n",
              "        -4.42455869e-01,  8.95287276e-01,  7.19520873e-01,\n",
              "        -6.83763459e-01,  1.63847321e-01,  1.01103633e+00,\n",
              "        -6.93703437e-01, -4.71428571e-01],\n",
              "       [-9.61565464e-01,  1.09124264e-02, -1.22155652e+00,\n",
              "        -4.42455869e-01, -9.78184246e-01, -2.01986459e+00,\n",
              "         1.46249406e+00,  9.51708909e-01, -5.86825280e-01,\n",
              "         2.98555910e-01, -2.08571429e+00],\n",
              "       [ 9.36371609e-01,  8.32981885e-01,  5.76209097e-01,\n",
              "        -4.42455869e-01, -9.78184246e-01,  9.08094557e-02,\n",
              "        -6.83763459e-01, -8.86634796e-01, -5.86825280e-01,\n",
              "         2.98555910e-01, -4.71428571e-01],\n",
              "       [-1.25969275e-02, -1.06526068e-01, -8.39053194e-01,\n",
              "        -4.42455869e-01, -9.78184246e-01,  9.88968624e-01,\n",
              "        -6.83763459e-01,  3.38927674e-01,  1.01103633e+00,\n",
              "        -6.93703437e-01, -4.71428571e-01],\n",
              "       [ 9.36371609e-01,  1.09124264e-02, -4.56549872e-01,\n",
              "        -4.42455869e-01, -9.78184246e-01,  1.03387658e+00,\n",
              "        -6.83763459e-01,  1.91465085e+00,  1.01103633e+00,\n",
              "         1.29081526e+00,  1.14285714e+00],\n",
              "       [-1.25969275e-02,  1.28350920e-01, -8.96428692e-01,\n",
              "        -4.42455869e-01,  8.95287276e-01,  3.60257206e-01,\n",
              "        -6.83763459e-01, -1.86313384e-01,  1.01103633e+00,\n",
              "         2.98555910e-01, -4.71428571e-01],\n",
              "       [-9.61565464e-01, -6.93718538e-01,  2.15792803e-02,\n",
              "        -4.42455869e-01, -9.78184246e-01, -2.68454211e-01,\n",
              "        -6.83763459e-01, -1.86313384e-01,  1.01103633e+00,\n",
              "        -6.93703437e-01,  1.14285714e+00],\n",
              "       [-9.61565464e-01,  1.18529737e+00, -4.75675038e-01,\n",
              "        -4.42455869e-01,  8.95287276e-01,  1.39314025e+00,\n",
              "        -6.83763459e-01, -8.86634796e-01,  1.01103633e+00,\n",
              "        -6.93703437e-01,  1.14285714e+00],\n",
              "       [-9.61565464e-01,  1.18529737e+00,  4.99708433e-01,\n",
              "        -4.42455869e-01,  8.95287276e-01, -2.78329988e+00,\n",
              "         1.46249406e+00,  1.63847321e-01, -5.86825280e-01,\n",
              "         2.98555910e-01,  1.14285714e+00],\n",
              "       [-9.61565464e-01,  4.80666403e-01, -8.58178360e-01,\n",
              "         2.26011241e+00, -9.78184246e-01,  2.25533331e-01,\n",
              "         1.46249406e+00,  1.82711067e+00, -2.18468689e+00,\n",
              "        -6.93703437e-01,  1.14285714e+00],\n",
              "       [-9.61565464e-01, -1.28091101e+00, -7.05177031e-01,\n",
              "        -4.42455869e-01,  8.95287276e-01,  4.94981081e-01,\n",
              "        -6.83763459e-01, -8.86634796e-01,  1.01103633e+00,\n",
              "        -6.93703437e-01,  1.14285714e+00],\n",
              "       [ 1.88534015e+00,  2.71199779e+00,  4.23207768e-01,\n",
              "        -4.42455869e-01, -9.78184246e-01, -2.23546253e-01,\n",
              "        -6.83763459e-01,  2.79005261e+00, -2.18468689e+00,\n",
              "        -6.93703437e-01,  1.14285714e+00],\n",
              "       [-9.61565464e-01,  1.28350920e-01,  3.08160586e+00,\n",
              "        -4.42455869e-01, -9.78184246e-01,  9.93538903e-04,\n",
              "         1.46249406e+00,  7.76628556e-01, -5.86825280e-01,\n",
              "         1.29081526e+00,  1.14285714e+00],\n",
              "       [-9.61565464e-01, -1.28091101e+00, -8.96428692e-01,\n",
              "        -4.42455869e-01,  8.95287276e-01, -1.07679746e+00,\n",
              "         1.46249406e+00,  4.26467851e-01, -5.86825280e-01,\n",
              "        -6.93703437e-01, -2.08571429e+00],\n",
              "       [-9.61565464e-01,  1.65505134e+00,  7.29210426e-01,\n",
              "        -4.42455869e-01, -9.78184246e-01, -1.88514071e+00,\n",
              "         1.46249406e+00,  4.26467851e-01, -5.86825280e-01,\n",
              "         2.28307460e+00, -4.71428571e-01],\n",
              "       [ 9.36371609e-01, -1.28091101e+00,  3.27581938e-01,\n",
              "         2.26011241e+00, -9.78184246e-01, -8.97165629e-01,\n",
              "        -6.83763459e-01, -8.86634796e-01,  1.01103633e+00,\n",
              "         2.98555910e-01, -4.71428571e-01],\n",
              "       [ 9.36371609e-01,  2.82943628e+00,  4.99708433e-01,\n",
              "         2.26011241e+00, -9.78184246e-01,  9.93538903e-04,\n",
              "         1.46249406e+00,  5.14008027e-01, -5.86825280e-01,\n",
              "        -6.93703437e-01,  1.14285714e+00],\n",
              "       [-9.61565464e-01,  1.06785887e+00, -1.66710519e-02,\n",
              "        -4.42455869e-01,  8.95287276e-01,  9.44060665e-01,\n",
              "        -6.83763459e-01,  4.26467851e-01,  1.01103633e+00,\n",
              "        -6.93703437e-01, -4.71428571e-01],\n",
              "       [-9.61565464e-01, -5.17560797e-01,  6.52709762e-01,\n",
              "        -4.42455869e-01,  8.95287276e-01, -2.46894417e+00,\n",
              "         1.46249406e+00,  8.64168733e-01, -5.86825280e-01,\n",
              "         1.29081526e+00,  1.14285714e+00],\n",
              "       [ 9.36371609e-01, -6.93718538e-01,  1.93705775e-01,\n",
              "        -4.42455869e-01, -9.78184246e-01, -1.33730336e-01,\n",
              "        -6.83763459e-01, -5.36474090e-01, -5.86825280e-01,\n",
              "        -6.93703437e-01,  1.14285714e+00],\n",
              "       [-9.61565464e-01,  4.00382122e+00,  7.67460758e-01,\n",
              "         2.26011241e+00, -9.78184246e-01, -7.62441754e-01,\n",
              "         1.46249406e+00,  2.61497226e+00, -2.18468689e+00,\n",
              "         1.29081526e+00,  1.14285714e+00],\n",
              "       [-9.61565464e-01,  4.80666403e-01,  9.58712419e-01,\n",
              "        -4.42455869e-01,  8.95287276e-01, -1.25642930e+00,\n",
              "         1.46249406e+00,  2.79005261e+00, -5.86825280e-01,\n",
              "         2.28307460e+00,  1.14285714e+00],\n",
              "       [-1.25969275e-02, -6.93718538e-01,  6.90960094e-01,\n",
              "        -4.42455869e-01, -9.78184246e-01,  4.50073123e-01,\n",
              "        -6.83763459e-01,  6.89088380e-01, -5.86825280e-01,\n",
              "        -6.93703437e-01, -4.71428571e-01],\n",
              "       [-9.61565464e-01, -1.28091101e+00, -1.45105851e+00,\n",
              "        -4.42455869e-01, -9.78184246e-01,  3.60257206e-01,\n",
              "        -6.83763459e-01, -8.86634796e-01,  1.01103633e+00,\n",
              "        -6.93703437e-01,  1.14285714e+00],\n",
              "       [ 9.36371609e-01, -4.00122303e-01,  1.16908925e+00,\n",
              "        -4.42455869e-01,  8.95287276e-01, -8.52257671e-01,\n",
              "         1.46249406e+00,  6.89088380e-01, -5.86825280e-01,\n",
              "        -6.93703437e-01,  1.14285714e+00],\n",
              "       [-1.25969275e-02,  1.65505134e+00, -3.57962180e-02,\n",
              "        -4.42455869e-01,  8.95287276e-01, -1.34624521e+00,\n",
              "         1.46249406e+00, -8.86634796e-01, -5.86825280e-01,\n",
              "         2.28307460e+00, -2.08571429e+00],\n",
              "       [-1.25969275e-02,  1.42017435e+00, -5.49213841e-02,\n",
              "        -4.42455869e-01, -9.78184246e-01, -3.13362170e-01,\n",
              "        -6.83763459e-01, -8.86634796e-01,  1.01103633e+00,\n",
              "        -6.93703437e-01, -4.71428571e-01],\n",
              "       [-9.61565464e-01,  4.80666403e-01, -4.18299540e-01,\n",
              "        -4.42455869e-01,  8.95287276e-01,  1.25841637e+00,\n",
              "        -6.83763459e-01, -8.86634796e-01,  1.01103633e+00,\n",
              "        -6.93703437e-01, -4.71428571e-01],\n",
              "       [-9.61565464e-01, -1.28091101e+00, -1.54668434e+00,\n",
              "        -4.42455869e-01, -9.78184246e-01, -1.61569296e+00,\n",
              "         1.46249406e+00,  8.64168733e-01, -5.86825280e-01,\n",
              "        -6.93703437e-01,  1.14285714e+00],\n",
              "       [ 9.36371609e-01, -8.11157032e-01, -1.89093733e+00,\n",
              "        -4.42455869e-01, -9.78184246e-01, -1.07679746e+00,\n",
              "        -6.83763459e-01, -1.86313384e-01,  1.01103633e+00,\n",
              "         2.28307460e+00, -4.71428571e-01],\n",
              "       [-1.25969275e-02,  1.30273586e+00, -3.03548543e-01,\n",
              "        -4.42455869e-01, -9.78184246e-01,  6.29704956e-01,\n",
              "        -6.83763459e-01, -8.86634796e-01,  1.01103633e+00,\n",
              "         2.98555910e-01, -4.71428571e-01],\n",
              "       [-1.25969275e-02, -6.93718538e-01,  9.01336921e-01,\n",
              "        -4.42455869e-01,  8.95287276e-01,  5.39889040e-01,\n",
              "        -6.83763459e-01, -8.86634796e-01,  1.01103633e+00,\n",
              "        -6.93703437e-01, -4.71428571e-01],\n",
              "       [-9.61565464e-01, -4.00122303e-01,  1.07346342e+00,\n",
              "        -4.42455869e-01, -9.78184246e-01,  5.39889040e-01,\n",
              "         1.46249406e+00, -8.86634796e-01,  1.01103633e+00,\n",
              "         2.28307460e+00, -4.71428571e-01],\n",
              "       [-9.61565464e-01, -2.23964562e-01, -6.09551201e-01,\n",
              "        -4.42455869e-01, -9.78184246e-01, -8.52257671e-01,\n",
              "         1.46249406e+00,  1.03924909e+00, -5.86825280e-01,\n",
              "         2.28307460e+00,  1.14285714e+00],\n",
              "       [-1.25969275e-02, -1.16347251e+00, -1.68056050e+00,\n",
              "        -4.42455869e-01,  8.95287276e-01, -5.37901962e-01,\n",
              "        -6.83763459e-01, -8.86634796e-01, -5.86825280e-01,\n",
              "        -6.93703437e-01, -4.71428571e-01],\n",
              "       [-1.25969275e-02, -1.57450724e+00, -8.39053194e-01,\n",
              "        -4.42455869e-01,  8.95287276e-01,  9.88968624e-01,\n",
              "        -6.83763459e-01, -8.86634796e-01,  1.01103633e+00,\n",
              "        -6.93703437e-01, -4.71428571e-01],\n",
              "       [ 9.36371609e-01, -8.11157032e-01,  5.57083931e-01,\n",
              "        -4.42455869e-01,  8.95287276e-01,  4.59014973e-02,\n",
              "        -6.83763459e-01, -1.12330315e-02,  1.01103633e+00,\n",
              "         2.98555910e-01,  1.14285714e+00],\n",
              "       [-9.61565464e-01,  9.50420379e-01, -8.58178360e-01,\n",
              "        -4.42455869e-01,  8.95287276e-01,  4.94981081e-01,\n",
              "        -6.83763459e-01, -8.86634796e-01,  1.01103633e+00,\n",
              "         2.98555910e-01,  1.14285714e+00],\n",
              "       [-9.61565464e-01, -5.76280044e-01,  7.29210426e-01,\n",
              "        -4.42455869e-01, -9.78184246e-01, -1.52587705e+00,\n",
              "         1.46249406e+00,  1.91465085e+00, -5.86825280e-01,\n",
              "         1.29081526e+00, -4.71428571e-01],\n",
              "       [ 9.36371609e-01,  1.06785887e+00, -2.33081615e+00,\n",
              "         2.26011241e+00,  8.95287276e-01,  1.03387658e+00,\n",
              "        -6.83763459e-01, -7.11554443e-01,  1.01103633e+00,\n",
              "         2.98555910e-01,  1.14285714e+00],\n",
              "       [-9.61565464e-01, -1.06526068e-01, -8.00802862e-01,\n",
              "        -4.42455869e-01, -9.78184246e-01, -8.07349712e-01,\n",
              "         1.46249406e+00,  1.21432944e+00, -5.86825280e-01,\n",
              "         1.29081526e+00,  1.14285714e+00],\n",
              "       [-9.61565464e-01, -1.75066498e+00,  3.27581938e-01,\n",
              "        -4.42455869e-01, -9.78184246e-01, -1.25642930e+00,\n",
              "        -6.83763459e-01, -3.61393737e-01, -5.86825280e-01,\n",
              "        -6.93703437e-01, -4.71428571e-01],\n",
              "       [-9.61565464e-01, -6.93718538e-01, -9.53804191e-01,\n",
              "        -4.42455869e-01,  8.95287276e-01, -8.97165629e-01,\n",
              "         1.46249406e+00,  5.14008027e-01, -5.86825280e-01,\n",
              "        -6.93703437e-01,  1.14285714e+00]])"
            ]
          },
          "metadata": {},
          "execution_count": 24
        }
      ]
    },
    {
      "cell_type": "markdown",
      "source": [
        "# **7) Build a Model**"
      ],
      "metadata": {
        "id": "8mguJfPJF2RY"
      }
    },
    {
      "cell_type": "markdown",
      "source": [
        "**1) Support Vector Machine**"
      ],
      "metadata": {
        "id": "1AFjvH6fF5Op"
      }
    },
    {
      "cell_type": "code",
      "source": [
        "from sklearn.svm import SVC\n",
        "svm = SVC(kernel = \"linear\")\n",
        "svm.fit(X_train,y_train)"
      ],
      "metadata": {
        "colab": {
          "base_uri": "https://localhost:8080/"
        },
        "id": "fB7RtBQXEU8v",
        "outputId": "1c377c93-42bd-4850-afca-b8132d9b4171"
      },
      "execution_count": 26,
      "outputs": [
        {
          "output_type": "execute_result",
          "data": {
            "text/plain": [
              "SVC(kernel='linear')"
            ]
          },
          "metadata": {},
          "execution_count": 26
        }
      ]
    },
    {
      "cell_type": "markdown",
      "source": [
        "**2) Decision Tree Classifier**"
      ],
      "metadata": {
        "id": "lRxdoVewGqoq"
      }
    },
    {
      "cell_type": "code",
      "source": [
        "from sklearn.tree import DecisionTreeClassifier\n",
        "tree = DecisionTreeClassifier(max_depth=4)\n",
        "tree.fit(X_train,y_train)"
      ],
      "metadata": {
        "colab": {
          "base_uri": "https://localhost:8080/"
        },
        "id": "QcBzUIPqGrmG",
        "outputId": "5271b446-26c9-491c-a3c5-6c57f34ecaed"
      },
      "execution_count": 27,
      "outputs": [
        {
          "output_type": "execute_result",
          "data": {
            "text/plain": [
              "DecisionTreeClassifier(max_depth=4)"
            ]
          },
          "metadata": {},
          "execution_count": 27
        }
      ]
    },
    {
      "cell_type": "code",
      "source": [
        "from sklearn.model_selection import cross_val_score\n",
        "\n",
        "for depth in range(1,16):\n",
        "  dt = DecisionTreeClassifier(max_depth=depth)\n",
        "  dt.fit(X_train, y_train) \n",
        "  trainAccuracy = accuracy_score(y_train, tree.predict(X_train)) \n",
        "  dt = DecisionTreeClassifier(max_depth=depth) \n",
        "  valAccuracy = cross_val_score(dt, X_train, y_train, cv=10) \n",
        "  print(\"Depth  : \", depth, \" Training Accuracy : \", trainAccuracy, \" Cross val score : \" ,np.mean(valAccuracy))"
      ],
      "metadata": {
        "colab": {
          "base_uri": "https://localhost:8080/"
        },
        "id": "2Bwi32nPGt8C",
        "outputId": "2b0fd436-c6aa-47fd-861b-2b173feab007"
      },
      "execution_count": 28,
      "outputs": [
        {
          "output_type": "stream",
          "name": "stdout",
          "text": [
            "Depth  :  1  Training Accuracy :  0.8761061946902655  Cross val score :  0.6952569169960474\n",
            "Depth  :  2  Training Accuracy :  0.8761061946902655  Cross val score :  0.6723320158102768\n",
            "Depth  :  3  Training Accuracy :  0.8761061946902655  Cross val score :  0.7606719367588933\n",
            "Depth  :  4  Training Accuracy :  0.8761061946902655  Cross val score :  0.7693675889328063\n",
            "Depth  :  5  Training Accuracy :  0.8761061946902655  Cross val score :  0.7470355731225297\n",
            "Depth  :  6  Training Accuracy :  0.8761061946902655  Cross val score :  0.7116600790513835\n",
            "Depth  :  7  Training Accuracy :  0.8761061946902655  Cross val score :  0.7383399209486166\n",
            "Depth  :  8  Training Accuracy :  0.8761061946902655  Cross val score :  0.7073122529644269\n",
            "Depth  :  9  Training Accuracy :  0.8761061946902655  Cross val score :  0.7203557312252966\n",
            "Depth  :  10  Training Accuracy :  0.8761061946902655  Cross val score :  0.7027667984189724\n",
            "Depth  :  11  Training Accuracy :  0.8761061946902655  Cross val score :  0.7207509881422924\n",
            "Depth  :  12  Training Accuracy :  0.8761061946902655  Cross val score :  0.7250988142292492\n",
            "Depth  :  13  Training Accuracy :  0.8761061946902655  Cross val score :  0.716403162055336\n",
            "Depth  :  14  Training Accuracy :  0.8761061946902655  Cross val score :  0.7341897233201581\n",
            "Depth  :  15  Training Accuracy :  0.8761061946902655  Cross val score :  0.7112648221343874\n"
          ]
        }
      ]
    },
    {
      "cell_type": "markdown",
      "source": [
        "**3) Random Forest Classifier**"
      ],
      "metadata": {
        "id": "YcPe28KfHTEE"
      }
    },
    {
      "cell_type": "code",
      "source": [
        "from sklearn.ensemble import RandomForestClassifier\n",
        "RF = RandomForestClassifier(n_estimators=100,max_depth=2,max_features=\"sqrt\")\n",
        "RF.fit(X_train,y_train)"
      ],
      "metadata": {
        "colab": {
          "base_uri": "https://localhost:8080/"
        },
        "id": "E45W3rlmGwN0",
        "outputId": "ff37802f-1ec1-48c3-8097-f9333d1c029d"
      },
      "execution_count": 36,
      "outputs": [
        {
          "output_type": "execute_result",
          "data": {
            "text/plain": [
              "RandomForestClassifier(max_depth=2, max_features='sqrt')"
            ]
          },
          "metadata": {},
          "execution_count": 36
        }
      ]
    },
    {
      "cell_type": "code",
      "source": [
        "from sklearn.model_selection import cross_val_score\n",
        "\n",
        "for depth in range(1,16):\n",
        "  RF = RandomForestClassifier(max_depth=depth)\n",
        "  RF.fit(X_train, y_train) \n",
        "  trainAccuracy = accuracy_score(y_train, RF.predict(X_train)) \n",
        "  RF = RandomForestClassifier(max_depth=depth) \n",
        "  valAccuracy = cross_val_score(dt, X_train, y_train, cv=10) \n",
        "  print(\"Depth  : \", depth, \" Training Accuracy : \", trainAccuracy, \" Cross val score : \" ,np.mean(valAccuracy))"
      ],
      "metadata": {
        "colab": {
          "base_uri": "https://localhost:8080/"
        },
        "id": "U7caA5vSHKtR",
        "outputId": "42411125-d54e-4fc8-9b33-a9b78e04437b"
      },
      "execution_count": 32,
      "outputs": [
        {
          "output_type": "stream",
          "name": "stdout",
          "text": [
            "Depth  :  1  Training Accuracy :  0.8362831858407079  Cross val score :  0.725098814229249\n",
            "Depth  :  2  Training Accuracy :  0.8451327433628318  Cross val score :  0.724901185770751\n",
            "Depth  :  3  Training Accuracy :  0.8805309734513275  Cross val score :  0.7207509881422925\n",
            "Depth  :  4  Training Accuracy :  0.9203539823008849  Cross val score :  0.716403162055336\n",
            "Depth  :  5  Training Accuracy :  0.9513274336283186  Cross val score :  0.7164031620553359\n",
            "Depth  :  6  Training Accuracy :  0.9778761061946902  Cross val score :  0.7069169960474309\n",
            "Depth  :  7  Training Accuracy :  0.9911504424778761  Cross val score :  0.7071146245059288\n",
            "Depth  :  8  Training Accuracy :  1.0  Cross val score :  0.7250988142292492\n",
            "Depth  :  9  Training Accuracy :  1.0  Cross val score :  0.7203557312252965\n",
            "Depth  :  10  Training Accuracy :  1.0  Cross val score :  0.7207509881422925\n",
            "Depth  :  11  Training Accuracy :  0.995575221238938  Cross val score :  0.7160079051383399\n",
            "Depth  :  12  Training Accuracy :  1.0  Cross val score :  0.7209486166007906\n",
            "Depth  :  13  Training Accuracy :  1.0  Cross val score :  0.716205533596838\n",
            "Depth  :  14  Training Accuracy :  1.0  Cross val score :  0.7426877470355732\n",
            "Depth  :  15  Training Accuracy :  1.0  Cross val score :  0.7294466403162055\n"
          ]
        }
      ]
    },
    {
      "cell_type": "markdown",
      "source": [
        "## **8) Making Prediction**"
      ],
      "metadata": {
        "id": "hpCVAYh7G5K9"
      }
    },
    {
      "cell_type": "markdown",
      "source": [
        "**1) Support Vector Machine**"
      ],
      "metadata": {
        "id": "N8b0akVgHepR"
      }
    },
    {
      "cell_type": "code",
      "source": [
        "svm.predict([[3,145,233,1,0,150,0,2.3,0,0,1]])"
      ],
      "metadata": {
        "colab": {
          "base_uri": "https://localhost:8080/"
        },
        "id": "sFOpL9PzHch8",
        "outputId": "2191f6a2-5103-49b5-b56f-be096fdc8a95"
      },
      "execution_count": 33,
      "outputs": [
        {
          "output_type": "execute_result",
          "data": {
            "text/plain": [
              "array([1])"
            ]
          },
          "metadata": {},
          "execution_count": 33
        }
      ]
    },
    {
      "cell_type": "markdown",
      "source": [
        "**2) Decision Tree Classifier**"
      ],
      "metadata": {
        "id": "h74c3hWrHh_p"
      }
    },
    {
      "cell_type": "code",
      "source": [
        "tree.predict([[3,145,233,1,0,150,0,2.3,0,0,1]])"
      ],
      "metadata": {
        "colab": {
          "base_uri": "https://localhost:8080/"
        },
        "id": "Fb0lavYfHg8L",
        "outputId": "8007e355-0b68-4519-a169-a7df448be2bc"
      },
      "execution_count": 34,
      "outputs": [
        {
          "output_type": "execute_result",
          "data": {
            "text/plain": [
              "array([1])"
            ]
          },
          "metadata": {},
          "execution_count": 34
        }
      ]
    },
    {
      "cell_type": "markdown",
      "source": [
        "**3) Random Forest Classifier**"
      ],
      "metadata": {
        "id": "fghiN05KHxjI"
      }
    },
    {
      "cell_type": "code",
      "source": [
        "RF.predict([[3,145,233,1,0,150,0,2.3,0,0,1]])"
      ],
      "metadata": {
        "colab": {
          "base_uri": "https://localhost:8080/"
        },
        "id": "tmFPoJO0HmCw",
        "outputId": "93c331ba-6313-445a-9215-771eeb39c5f8"
      },
      "execution_count": 37,
      "outputs": [
        {
          "output_type": "execute_result",
          "data": {
            "text/plain": [
              "array([1])"
            ]
          },
          "metadata": {},
          "execution_count": 37
        }
      ]
    },
    {
      "cell_type": "markdown",
      "source": [
        "# **9) Compare Actual and Predicted Scores**"
      ],
      "metadata": {
        "id": "eTWy_J3AIE_6"
      }
    },
    {
      "cell_type": "markdown",
      "source": [
        "**1) Support Vector Machine**"
      ],
      "metadata": {
        "id": "WlbAzCb5IHzh"
      }
    },
    {
      "cell_type": "code",
      "source": [
        "y_pred_svm = svm.predict(X_test)\n",
        "y_pred_svm"
      ],
      "metadata": {
        "colab": {
          "base_uri": "https://localhost:8080/"
        },
        "id": "KyFGz6sLH4g8",
        "outputId": "724717df-66a0-4958-ccd6-e13a69dea990"
      },
      "execution_count": 38,
      "outputs": [
        {
          "output_type": "execute_result",
          "data": {
            "text/plain": [
              "array([0, 1, 0, 1, 1, 0, 0, 1, 1, 0, 1, 0, 0, 1, 0, 0, 1, 1, 0, 1, 0, 1,\n",
              "       1, 1, 1, 0, 1, 1, 1, 1, 1, 1, 1, 1, 0, 1, 1, 0, 1, 1, 1, 0, 0, 1,\n",
              "       0, 0, 1, 0, 1, 0, 1, 0, 1, 0, 0, 1, 1, 0, 0, 1, 1, 0, 1, 1, 1, 0,\n",
              "       0, 1, 1, 1, 0, 0, 1, 0, 1, 0])"
            ]
          },
          "metadata": {},
          "execution_count": 38
        }
      ]
    },
    {
      "cell_type": "code",
      "source": [
        "df = pd.DataFrame({\"Actual\": y_test,\"Prediction\" :y_pred_svm})\n",
        "df"
      ],
      "metadata": {
        "colab": {
          "base_uri": "https://localhost:8080/",
          "height": 423
        },
        "id": "-O6OlHQzIKDJ",
        "outputId": "3bf07d8e-9f9a-4a07-839d-b56e54396c3b"
      },
      "execution_count": 39,
      "outputs": [
        {
          "output_type": "execute_result",
          "data": {
            "text/plain": [
              "     Actual  Prediction\n",
              "224       0           0\n",
              "57        1           1\n",
              "264       0           0\n",
              "66        1           1\n",
              "114       1           1\n",
              "..      ...         ...\n",
              "268       0           0\n",
              "111       1           1\n",
              "174       0           0\n",
              "84        1           1\n",
              "227       0           0\n",
              "\n",
              "[76 rows x 2 columns]"
            ],
            "text/html": [
              "\n",
              "  <div id=\"df-c8ee5241-3f84-420d-afd3-35aedf4057db\">\n",
              "    <div class=\"colab-df-container\">\n",
              "      <div>\n",
              "<style scoped>\n",
              "    .dataframe tbody tr th:only-of-type {\n",
              "        vertical-align: middle;\n",
              "    }\n",
              "\n",
              "    .dataframe tbody tr th {\n",
              "        vertical-align: top;\n",
              "    }\n",
              "\n",
              "    .dataframe thead th {\n",
              "        text-align: right;\n",
              "    }\n",
              "</style>\n",
              "<table border=\"1\" class=\"dataframe\">\n",
              "  <thead>\n",
              "    <tr style=\"text-align: right;\">\n",
              "      <th></th>\n",
              "      <th>Actual</th>\n",
              "      <th>Prediction</th>\n",
              "    </tr>\n",
              "  </thead>\n",
              "  <tbody>\n",
              "    <tr>\n",
              "      <th>224</th>\n",
              "      <td>0</td>\n",
              "      <td>0</td>\n",
              "    </tr>\n",
              "    <tr>\n",
              "      <th>57</th>\n",
              "      <td>1</td>\n",
              "      <td>1</td>\n",
              "    </tr>\n",
              "    <tr>\n",
              "      <th>264</th>\n",
              "      <td>0</td>\n",
              "      <td>0</td>\n",
              "    </tr>\n",
              "    <tr>\n",
              "      <th>66</th>\n",
              "      <td>1</td>\n",
              "      <td>1</td>\n",
              "    </tr>\n",
              "    <tr>\n",
              "      <th>114</th>\n",
              "      <td>1</td>\n",
              "      <td>1</td>\n",
              "    </tr>\n",
              "    <tr>\n",
              "      <th>...</th>\n",
              "      <td>...</td>\n",
              "      <td>...</td>\n",
              "    </tr>\n",
              "    <tr>\n",
              "      <th>268</th>\n",
              "      <td>0</td>\n",
              "      <td>0</td>\n",
              "    </tr>\n",
              "    <tr>\n",
              "      <th>111</th>\n",
              "      <td>1</td>\n",
              "      <td>1</td>\n",
              "    </tr>\n",
              "    <tr>\n",
              "      <th>174</th>\n",
              "      <td>0</td>\n",
              "      <td>0</td>\n",
              "    </tr>\n",
              "    <tr>\n",
              "      <th>84</th>\n",
              "      <td>1</td>\n",
              "      <td>1</td>\n",
              "    </tr>\n",
              "    <tr>\n",
              "      <th>227</th>\n",
              "      <td>0</td>\n",
              "      <td>0</td>\n",
              "    </tr>\n",
              "  </tbody>\n",
              "</table>\n",
              "<p>76 rows × 2 columns</p>\n",
              "</div>\n",
              "      <button class=\"colab-df-convert\" onclick=\"convertToInteractive('df-c8ee5241-3f84-420d-afd3-35aedf4057db')\"\n",
              "              title=\"Convert this dataframe to an interactive table.\"\n",
              "              style=\"display:none;\">\n",
              "        \n",
              "  <svg xmlns=\"http://www.w3.org/2000/svg\" height=\"24px\"viewBox=\"0 0 24 24\"\n",
              "       width=\"24px\">\n",
              "    <path d=\"M0 0h24v24H0V0z\" fill=\"none\"/>\n",
              "    <path d=\"M18.56 5.44l.94 2.06.94-2.06 2.06-.94-2.06-.94-.94-2.06-.94 2.06-2.06.94zm-11 1L8.5 8.5l.94-2.06 2.06-.94-2.06-.94L8.5 2.5l-.94 2.06-2.06.94zm10 10l.94 2.06.94-2.06 2.06-.94-2.06-.94-.94-2.06-.94 2.06-2.06.94z\"/><path d=\"M17.41 7.96l-1.37-1.37c-.4-.4-.92-.59-1.43-.59-.52 0-1.04.2-1.43.59L10.3 9.45l-7.72 7.72c-.78.78-.78 2.05 0 2.83L4 21.41c.39.39.9.59 1.41.59.51 0 1.02-.2 1.41-.59l7.78-7.78 2.81-2.81c.8-.78.8-2.07 0-2.86zM5.41 20L4 18.59l7.72-7.72 1.47 1.35L5.41 20z\"/>\n",
              "  </svg>\n",
              "      </button>\n",
              "      \n",
              "  <style>\n",
              "    .colab-df-container {\n",
              "      display:flex;\n",
              "      flex-wrap:wrap;\n",
              "      gap: 12px;\n",
              "    }\n",
              "\n",
              "    .colab-df-convert {\n",
              "      background-color: #E8F0FE;\n",
              "      border: none;\n",
              "      border-radius: 50%;\n",
              "      cursor: pointer;\n",
              "      display: none;\n",
              "      fill: #1967D2;\n",
              "      height: 32px;\n",
              "      padding: 0 0 0 0;\n",
              "      width: 32px;\n",
              "    }\n",
              "\n",
              "    .colab-df-convert:hover {\n",
              "      background-color: #E2EBFA;\n",
              "      box-shadow: 0px 1px 2px rgba(60, 64, 67, 0.3), 0px 1px 3px 1px rgba(60, 64, 67, 0.15);\n",
              "      fill: #174EA6;\n",
              "    }\n",
              "\n",
              "    [theme=dark] .colab-df-convert {\n",
              "      background-color: #3B4455;\n",
              "      fill: #D2E3FC;\n",
              "    }\n",
              "\n",
              "    [theme=dark] .colab-df-convert:hover {\n",
              "      background-color: #434B5C;\n",
              "      box-shadow: 0px 1px 3px 1px rgba(0, 0, 0, 0.15);\n",
              "      filter: drop-shadow(0px 1px 2px rgba(0, 0, 0, 0.3));\n",
              "      fill: #FFFFFF;\n",
              "    }\n",
              "  </style>\n",
              "\n",
              "      <script>\n",
              "        const buttonEl =\n",
              "          document.querySelector('#df-c8ee5241-3f84-420d-afd3-35aedf4057db button.colab-df-convert');\n",
              "        buttonEl.style.display =\n",
              "          google.colab.kernel.accessAllowed ? 'block' : 'none';\n",
              "\n",
              "        async function convertToInteractive(key) {\n",
              "          const element = document.querySelector('#df-c8ee5241-3f84-420d-afd3-35aedf4057db');\n",
              "          const dataTable =\n",
              "            await google.colab.kernel.invokeFunction('convertToInteractive',\n",
              "                                                     [key], {});\n",
              "          if (!dataTable) return;\n",
              "\n",
              "          const docLinkHtml = 'Like what you see? Visit the ' +\n",
              "            '<a target=\"_blank\" href=https://colab.research.google.com/notebooks/data_table.ipynb>data table notebook</a>'\n",
              "            + ' to learn more about interactive tables.';\n",
              "          element.innerHTML = '';\n",
              "          dataTable['output_type'] = 'display_data';\n",
              "          await google.colab.output.renderOutput(dataTable, element);\n",
              "          const docLink = document.createElement('div');\n",
              "          docLink.innerHTML = docLinkHtml;\n",
              "          element.appendChild(docLink);\n",
              "        }\n",
              "      </script>\n",
              "    </div>\n",
              "  </div>\n",
              "  "
            ]
          },
          "metadata": {},
          "execution_count": 39
        }
      ]
    },
    {
      "cell_type": "markdown",
      "source": [
        "**2) Decision Tree Classifier**"
      ],
      "metadata": {
        "id": "VNSNrVOJINqb"
      }
    },
    {
      "cell_type": "code",
      "source": [
        "y_pred_tree = tree.predict(X_test)\n",
        "y_pred_tree"
      ],
      "metadata": {
        "colab": {
          "base_uri": "https://localhost:8080/"
        },
        "id": "fUogHQxPIL5i",
        "outputId": "a1774cf9-da58-4633-ba2d-02460954edbd"
      },
      "execution_count": 40,
      "outputs": [
        {
          "output_type": "execute_result",
          "data": {
            "text/plain": [
              "array([0, 1, 0, 1, 1, 1, 0, 1, 1, 0, 1, 0, 1, 1, 0, 0, 1, 1, 0, 1, 0, 1,\n",
              "       1, 1, 1, 0, 1, 1, 1, 1, 1, 1, 1, 1, 0, 1, 1, 1, 1, 0, 0, 0, 0, 0,\n",
              "       0, 0, 1, 0, 1, 0, 1, 0, 0, 0, 0, 1, 0, 0, 1, 1, 1, 0, 1, 1, 1, 0,\n",
              "       0, 1, 1, 0, 0, 0, 1, 0, 1, 0])"
            ]
          },
          "metadata": {},
          "execution_count": 40
        }
      ]
    },
    {
      "cell_type": "code",
      "source": [
        "df = pd.DataFrame({\"Actual\": y_test,\"Prediction\" :y_pred_tree})\n",
        "df"
      ],
      "metadata": {
        "colab": {
          "base_uri": "https://localhost:8080/",
          "height": 423
        },
        "id": "Yo63CWAYIP4-",
        "outputId": "5443215e-b19c-4551-9d5c-35ddaeb3a294"
      },
      "execution_count": 41,
      "outputs": [
        {
          "output_type": "execute_result",
          "data": {
            "text/plain": [
              "     Actual  Prediction\n",
              "224       0           0\n",
              "57        1           1\n",
              "264       0           0\n",
              "66        1           1\n",
              "114       1           1\n",
              "..      ...         ...\n",
              "268       0           0\n",
              "111       1           1\n",
              "174       0           0\n",
              "84        1           1\n",
              "227       0           0\n",
              "\n",
              "[76 rows x 2 columns]"
            ],
            "text/html": [
              "\n",
              "  <div id=\"df-5ff4a9c3-970b-412a-b800-fd1d907847e2\">\n",
              "    <div class=\"colab-df-container\">\n",
              "      <div>\n",
              "<style scoped>\n",
              "    .dataframe tbody tr th:only-of-type {\n",
              "        vertical-align: middle;\n",
              "    }\n",
              "\n",
              "    .dataframe tbody tr th {\n",
              "        vertical-align: top;\n",
              "    }\n",
              "\n",
              "    .dataframe thead th {\n",
              "        text-align: right;\n",
              "    }\n",
              "</style>\n",
              "<table border=\"1\" class=\"dataframe\">\n",
              "  <thead>\n",
              "    <tr style=\"text-align: right;\">\n",
              "      <th></th>\n",
              "      <th>Actual</th>\n",
              "      <th>Prediction</th>\n",
              "    </tr>\n",
              "  </thead>\n",
              "  <tbody>\n",
              "    <tr>\n",
              "      <th>224</th>\n",
              "      <td>0</td>\n",
              "      <td>0</td>\n",
              "    </tr>\n",
              "    <tr>\n",
              "      <th>57</th>\n",
              "      <td>1</td>\n",
              "      <td>1</td>\n",
              "    </tr>\n",
              "    <tr>\n",
              "      <th>264</th>\n",
              "      <td>0</td>\n",
              "      <td>0</td>\n",
              "    </tr>\n",
              "    <tr>\n",
              "      <th>66</th>\n",
              "      <td>1</td>\n",
              "      <td>1</td>\n",
              "    </tr>\n",
              "    <tr>\n",
              "      <th>114</th>\n",
              "      <td>1</td>\n",
              "      <td>1</td>\n",
              "    </tr>\n",
              "    <tr>\n",
              "      <th>...</th>\n",
              "      <td>...</td>\n",
              "      <td>...</td>\n",
              "    </tr>\n",
              "    <tr>\n",
              "      <th>268</th>\n",
              "      <td>0</td>\n",
              "      <td>0</td>\n",
              "    </tr>\n",
              "    <tr>\n",
              "      <th>111</th>\n",
              "      <td>1</td>\n",
              "      <td>1</td>\n",
              "    </tr>\n",
              "    <tr>\n",
              "      <th>174</th>\n",
              "      <td>0</td>\n",
              "      <td>0</td>\n",
              "    </tr>\n",
              "    <tr>\n",
              "      <th>84</th>\n",
              "      <td>1</td>\n",
              "      <td>1</td>\n",
              "    </tr>\n",
              "    <tr>\n",
              "      <th>227</th>\n",
              "      <td>0</td>\n",
              "      <td>0</td>\n",
              "    </tr>\n",
              "  </tbody>\n",
              "</table>\n",
              "<p>76 rows × 2 columns</p>\n",
              "</div>\n",
              "      <button class=\"colab-df-convert\" onclick=\"convertToInteractive('df-5ff4a9c3-970b-412a-b800-fd1d907847e2')\"\n",
              "              title=\"Convert this dataframe to an interactive table.\"\n",
              "              style=\"display:none;\">\n",
              "        \n",
              "  <svg xmlns=\"http://www.w3.org/2000/svg\" height=\"24px\"viewBox=\"0 0 24 24\"\n",
              "       width=\"24px\">\n",
              "    <path d=\"M0 0h24v24H0V0z\" fill=\"none\"/>\n",
              "    <path d=\"M18.56 5.44l.94 2.06.94-2.06 2.06-.94-2.06-.94-.94-2.06-.94 2.06-2.06.94zm-11 1L8.5 8.5l.94-2.06 2.06-.94-2.06-.94L8.5 2.5l-.94 2.06-2.06.94zm10 10l.94 2.06.94-2.06 2.06-.94-2.06-.94-.94-2.06-.94 2.06-2.06.94z\"/><path d=\"M17.41 7.96l-1.37-1.37c-.4-.4-.92-.59-1.43-.59-.52 0-1.04.2-1.43.59L10.3 9.45l-7.72 7.72c-.78.78-.78 2.05 0 2.83L4 21.41c.39.39.9.59 1.41.59.51 0 1.02-.2 1.41-.59l7.78-7.78 2.81-2.81c.8-.78.8-2.07 0-2.86zM5.41 20L4 18.59l7.72-7.72 1.47 1.35L5.41 20z\"/>\n",
              "  </svg>\n",
              "      </button>\n",
              "      \n",
              "  <style>\n",
              "    .colab-df-container {\n",
              "      display:flex;\n",
              "      flex-wrap:wrap;\n",
              "      gap: 12px;\n",
              "    }\n",
              "\n",
              "    .colab-df-convert {\n",
              "      background-color: #E8F0FE;\n",
              "      border: none;\n",
              "      border-radius: 50%;\n",
              "      cursor: pointer;\n",
              "      display: none;\n",
              "      fill: #1967D2;\n",
              "      height: 32px;\n",
              "      padding: 0 0 0 0;\n",
              "      width: 32px;\n",
              "    }\n",
              "\n",
              "    .colab-df-convert:hover {\n",
              "      background-color: #E2EBFA;\n",
              "      box-shadow: 0px 1px 2px rgba(60, 64, 67, 0.3), 0px 1px 3px 1px rgba(60, 64, 67, 0.15);\n",
              "      fill: #174EA6;\n",
              "    }\n",
              "\n",
              "    [theme=dark] .colab-df-convert {\n",
              "      background-color: #3B4455;\n",
              "      fill: #D2E3FC;\n",
              "    }\n",
              "\n",
              "    [theme=dark] .colab-df-convert:hover {\n",
              "      background-color: #434B5C;\n",
              "      box-shadow: 0px 1px 3px 1px rgba(0, 0, 0, 0.15);\n",
              "      filter: drop-shadow(0px 1px 2px rgba(0, 0, 0, 0.3));\n",
              "      fill: #FFFFFF;\n",
              "    }\n",
              "  </style>\n",
              "\n",
              "      <script>\n",
              "        const buttonEl =\n",
              "          document.querySelector('#df-5ff4a9c3-970b-412a-b800-fd1d907847e2 button.colab-df-convert');\n",
              "        buttonEl.style.display =\n",
              "          google.colab.kernel.accessAllowed ? 'block' : 'none';\n",
              "\n",
              "        async function convertToInteractive(key) {\n",
              "          const element = document.querySelector('#df-5ff4a9c3-970b-412a-b800-fd1d907847e2');\n",
              "          const dataTable =\n",
              "            await google.colab.kernel.invokeFunction('convertToInteractive',\n",
              "                                                     [key], {});\n",
              "          if (!dataTable) return;\n",
              "\n",
              "          const docLinkHtml = 'Like what you see? Visit the ' +\n",
              "            '<a target=\"_blank\" href=https://colab.research.google.com/notebooks/data_table.ipynb>data table notebook</a>'\n",
              "            + ' to learn more about interactive tables.';\n",
              "          element.innerHTML = '';\n",
              "          dataTable['output_type'] = 'display_data';\n",
              "          await google.colab.output.renderOutput(dataTable, element);\n",
              "          const docLink = document.createElement('div');\n",
              "          docLink.innerHTML = docLinkHtml;\n",
              "          element.appendChild(docLink);\n",
              "        }\n",
              "      </script>\n",
              "    </div>\n",
              "  </div>\n",
              "  "
            ]
          },
          "metadata": {},
          "execution_count": 41
        }
      ]
    },
    {
      "cell_type": "markdown",
      "source": [
        "**3) Random Forest Classifier**"
      ],
      "metadata": {
        "id": "6F-owimnIUGo"
      }
    },
    {
      "cell_type": "code",
      "source": [
        "y_pred_RF = RF.predict(X_test)\n",
        "y_pred_RF"
      ],
      "metadata": {
        "colab": {
          "base_uri": "https://localhost:8080/"
        },
        "id": "DNK8j0EgIR3r",
        "outputId": "bfab880d-0685-4d9b-83a4-95497e243d5c"
      },
      "execution_count": 42,
      "outputs": [
        {
          "output_type": "execute_result",
          "data": {
            "text/plain": [
              "array([0, 1, 0, 1, 1, 0, 0, 1, 1, 0, 1, 0, 1, 1, 0, 0, 1, 1, 0, 1, 1, 1,\n",
              "       0, 1, 1, 0, 1, 1, 1, 1, 1, 1, 1, 1, 0, 1, 1, 1, 1, 0, 1, 0, 0, 1,\n",
              "       0, 0, 0, 0, 1, 1, 1, 0, 1, 0, 0, 1, 1, 0, 1, 1, 1, 0, 1, 1, 1, 1,\n",
              "       0, 1, 1, 1, 0, 0, 1, 0, 1, 0])"
            ]
          },
          "metadata": {},
          "execution_count": 42
        }
      ]
    },
    {
      "cell_type": "code",
      "source": [
        "df = pd.DataFrame({\"Actual\": y_test,\"Prediction\" :y_pred_RF})\n",
        "df"
      ],
      "metadata": {
        "colab": {
          "base_uri": "https://localhost:8080/",
          "height": 423
        },
        "id": "JyIZtQUJIcgJ",
        "outputId": "ac46ee54-0905-4047-8e55-1dbc031c5643"
      },
      "execution_count": 43,
      "outputs": [
        {
          "output_type": "execute_result",
          "data": {
            "text/plain": [
              "     Actual  Prediction\n",
              "224       0           0\n",
              "57        1           1\n",
              "264       0           0\n",
              "66        1           1\n",
              "114       1           1\n",
              "..      ...         ...\n",
              "268       0           0\n",
              "111       1           1\n",
              "174       0           0\n",
              "84        1           1\n",
              "227       0           0\n",
              "\n",
              "[76 rows x 2 columns]"
            ],
            "text/html": [
              "\n",
              "  <div id=\"df-29e58a96-aa18-40a4-92f2-d50a578ad37f\">\n",
              "    <div class=\"colab-df-container\">\n",
              "      <div>\n",
              "<style scoped>\n",
              "    .dataframe tbody tr th:only-of-type {\n",
              "        vertical-align: middle;\n",
              "    }\n",
              "\n",
              "    .dataframe tbody tr th {\n",
              "        vertical-align: top;\n",
              "    }\n",
              "\n",
              "    .dataframe thead th {\n",
              "        text-align: right;\n",
              "    }\n",
              "</style>\n",
              "<table border=\"1\" class=\"dataframe\">\n",
              "  <thead>\n",
              "    <tr style=\"text-align: right;\">\n",
              "      <th></th>\n",
              "      <th>Actual</th>\n",
              "      <th>Prediction</th>\n",
              "    </tr>\n",
              "  </thead>\n",
              "  <tbody>\n",
              "    <tr>\n",
              "      <th>224</th>\n",
              "      <td>0</td>\n",
              "      <td>0</td>\n",
              "    </tr>\n",
              "    <tr>\n",
              "      <th>57</th>\n",
              "      <td>1</td>\n",
              "      <td>1</td>\n",
              "    </tr>\n",
              "    <tr>\n",
              "      <th>264</th>\n",
              "      <td>0</td>\n",
              "      <td>0</td>\n",
              "    </tr>\n",
              "    <tr>\n",
              "      <th>66</th>\n",
              "      <td>1</td>\n",
              "      <td>1</td>\n",
              "    </tr>\n",
              "    <tr>\n",
              "      <th>114</th>\n",
              "      <td>1</td>\n",
              "      <td>1</td>\n",
              "    </tr>\n",
              "    <tr>\n",
              "      <th>...</th>\n",
              "      <td>...</td>\n",
              "      <td>...</td>\n",
              "    </tr>\n",
              "    <tr>\n",
              "      <th>268</th>\n",
              "      <td>0</td>\n",
              "      <td>0</td>\n",
              "    </tr>\n",
              "    <tr>\n",
              "      <th>111</th>\n",
              "      <td>1</td>\n",
              "      <td>1</td>\n",
              "    </tr>\n",
              "    <tr>\n",
              "      <th>174</th>\n",
              "      <td>0</td>\n",
              "      <td>0</td>\n",
              "    </tr>\n",
              "    <tr>\n",
              "      <th>84</th>\n",
              "      <td>1</td>\n",
              "      <td>1</td>\n",
              "    </tr>\n",
              "    <tr>\n",
              "      <th>227</th>\n",
              "      <td>0</td>\n",
              "      <td>0</td>\n",
              "    </tr>\n",
              "  </tbody>\n",
              "</table>\n",
              "<p>76 rows × 2 columns</p>\n",
              "</div>\n",
              "      <button class=\"colab-df-convert\" onclick=\"convertToInteractive('df-29e58a96-aa18-40a4-92f2-d50a578ad37f')\"\n",
              "              title=\"Convert this dataframe to an interactive table.\"\n",
              "              style=\"display:none;\">\n",
              "        \n",
              "  <svg xmlns=\"http://www.w3.org/2000/svg\" height=\"24px\"viewBox=\"0 0 24 24\"\n",
              "       width=\"24px\">\n",
              "    <path d=\"M0 0h24v24H0V0z\" fill=\"none\"/>\n",
              "    <path d=\"M18.56 5.44l.94 2.06.94-2.06 2.06-.94-2.06-.94-.94-2.06-.94 2.06-2.06.94zm-11 1L8.5 8.5l.94-2.06 2.06-.94-2.06-.94L8.5 2.5l-.94 2.06-2.06.94zm10 10l.94 2.06.94-2.06 2.06-.94-2.06-.94-.94-2.06-.94 2.06-2.06.94z\"/><path d=\"M17.41 7.96l-1.37-1.37c-.4-.4-.92-.59-1.43-.59-.52 0-1.04.2-1.43.59L10.3 9.45l-7.72 7.72c-.78.78-.78 2.05 0 2.83L4 21.41c.39.39.9.59 1.41.59.51 0 1.02-.2 1.41-.59l7.78-7.78 2.81-2.81c.8-.78.8-2.07 0-2.86zM5.41 20L4 18.59l7.72-7.72 1.47 1.35L5.41 20z\"/>\n",
              "  </svg>\n",
              "      </button>\n",
              "      \n",
              "  <style>\n",
              "    .colab-df-container {\n",
              "      display:flex;\n",
              "      flex-wrap:wrap;\n",
              "      gap: 12px;\n",
              "    }\n",
              "\n",
              "    .colab-df-convert {\n",
              "      background-color: #E8F0FE;\n",
              "      border: none;\n",
              "      border-radius: 50%;\n",
              "      cursor: pointer;\n",
              "      display: none;\n",
              "      fill: #1967D2;\n",
              "      height: 32px;\n",
              "      padding: 0 0 0 0;\n",
              "      width: 32px;\n",
              "    }\n",
              "\n",
              "    .colab-df-convert:hover {\n",
              "      background-color: #E2EBFA;\n",
              "      box-shadow: 0px 1px 2px rgba(60, 64, 67, 0.3), 0px 1px 3px 1px rgba(60, 64, 67, 0.15);\n",
              "      fill: #174EA6;\n",
              "    }\n",
              "\n",
              "    [theme=dark] .colab-df-convert {\n",
              "      background-color: #3B4455;\n",
              "      fill: #D2E3FC;\n",
              "    }\n",
              "\n",
              "    [theme=dark] .colab-df-convert:hover {\n",
              "      background-color: #434B5C;\n",
              "      box-shadow: 0px 1px 3px 1px rgba(0, 0, 0, 0.15);\n",
              "      filter: drop-shadow(0px 1px 2px rgba(0, 0, 0, 0.3));\n",
              "      fill: #FFFFFF;\n",
              "    }\n",
              "  </style>\n",
              "\n",
              "      <script>\n",
              "        const buttonEl =\n",
              "          document.querySelector('#df-29e58a96-aa18-40a4-92f2-d50a578ad37f button.colab-df-convert');\n",
              "        buttonEl.style.display =\n",
              "          google.colab.kernel.accessAllowed ? 'block' : 'none';\n",
              "\n",
              "        async function convertToInteractive(key) {\n",
              "          const element = document.querySelector('#df-29e58a96-aa18-40a4-92f2-d50a578ad37f');\n",
              "          const dataTable =\n",
              "            await google.colab.kernel.invokeFunction('convertToInteractive',\n",
              "                                                     [key], {});\n",
              "          if (!dataTable) return;\n",
              "\n",
              "          const docLinkHtml = 'Like what you see? Visit the ' +\n",
              "            '<a target=\"_blank\" href=https://colab.research.google.com/notebooks/data_table.ipynb>data table notebook</a>'\n",
              "            + ' to learn more about interactive tables.';\n",
              "          element.innerHTML = '';\n",
              "          dataTable['output_type'] = 'display_data';\n",
              "          await google.colab.output.renderOutput(dataTable, element);\n",
              "          const docLink = document.createElement('div');\n",
              "          docLink.innerHTML = docLinkHtml;\n",
              "          element.appendChild(docLink);\n",
              "        }\n",
              "      </script>\n",
              "    </div>\n",
              "  </div>\n",
              "  "
            ]
          },
          "metadata": {},
          "execution_count": 43
        }
      ]
    },
    {
      "cell_type": "markdown",
      "source": [
        "# **10) Evaluation Metrics**"
      ],
      "metadata": {
        "id": "VwkQlN24Ipy6"
      }
    },
    {
      "cell_type": "code",
      "source": [
        "from sklearn.metrics import accuracy_score,plot_roc_curve,roc_curve,roc_auc_score,confusion_matrix,f1_score"
      ],
      "metadata": {
        "id": "9D8NkbPZIhsb"
      },
      "execution_count": 44,
      "outputs": []
    },
    {
      "cell_type": "markdown",
      "source": [
        "**1) Support Vector Machine**"
      ],
      "metadata": {
        "id": "NhhqSDELIuOT"
      }
    },
    {
      "cell_type": "code",
      "source": [
        "# Accuracy Score\n",
        "Accuracy_Score = svm.score(X_test,y_test)\n",
        "print(\"Accuarcy Score of a Test Data: \",Accuracy_Score)"
      ],
      "metadata": {
        "colab": {
          "base_uri": "https://localhost:8080/"
        },
        "id": "wYEH-Ex2Isns",
        "outputId": "ecbb3323-aae5-4a20-89e0-118a7e89ff5b"
      },
      "execution_count": 45,
      "outputs": [
        {
          "output_type": "stream",
          "name": "stdout",
          "text": [
            "Accuarcy Score of a Test Data:  0.8552631578947368\n"
          ]
        }
      ]
    },
    {
      "cell_type": "code",
      "source": [
        "# Confusion Matrix\n",
        "confusion_matrix(y_test,y_pred_svm)"
      ],
      "metadata": {
        "colab": {
          "base_uri": "https://localhost:8080/"
        },
        "id": "ZCe-yhqlIw35",
        "outputId": "1e76b9e2-ddce-4cc8-ab3e-1fe4a3681a02"
      },
      "execution_count": 46,
      "outputs": [
        {
          "output_type": "execute_result",
          "data": {
            "text/plain": [
              "array([[30,  9],\n",
              "       [ 2, 35]])"
            ]
          },
          "metadata": {},
          "execution_count": 46
        }
      ]
    },
    {
      "cell_type": "code",
      "source": [
        "# f1 score\n",
        "F1_Score = f1_score(y_test,y_pred_svm)\n",
        "print(\"f1 Score of Test Data: \",F1_Score)"
      ],
      "metadata": {
        "colab": {
          "base_uri": "https://localhost:8080/"
        },
        "id": "luYdlh1OIzcr",
        "outputId": "f21ffbfa-6a3c-4cae-9006-8c8a83b3b2a8"
      },
      "execution_count": 47,
      "outputs": [
        {
          "output_type": "stream",
          "name": "stdout",
          "text": [
            "f1 Score of Test Data:  0.8641975308641975\n"
          ]
        }
      ]
    },
    {
      "cell_type": "code",
      "source": [
        "# AUROC Score\n",
        "plot_roc_curve(svm,X_test,y_test)"
      ],
      "metadata": {
        "colab": {
          "base_uri": "https://localhost:8080/",
          "height": 297
        },
        "id": "ELOix722I1WH",
        "outputId": "3be78b8d-0857-4188-d839-e619a28aa034"
      },
      "execution_count": 48,
      "outputs": [
        {
          "output_type": "execute_result",
          "data": {
            "text/plain": [
              "<sklearn.metrics._plot.roc_curve.RocCurveDisplay at 0x7f115976a4d0>"
            ]
          },
          "metadata": {},
          "execution_count": 48
        },
        {
          "output_type": "display_data",
          "data": {
            "text/plain": [
              "<Figure size 432x288 with 1 Axes>"
            ],
            "image/png": "[encoded data removed]"
          },
          "metadata": {}
        }
      ]
    },
    {
      "cell_type": "code",
      "source": [
        "from sklearn.metrics import classification_report\n",
        "print(classification_report(y_test, y_pred_svm))"
      ],
      "metadata": {
        "colab": {
          "base_uri": "https://localhost:8080/"
        },
        "id": "3GaIH-iiI34b",
        "outputId": "86874bd3-46d7-4fdf-d106-390e58d2165b"
      },
      "execution_count": 49,
      "outputs": [
        {
          "output_type": "stream",
          "name": "stdout",
          "text": [
            "              precision    recall  f1-score   support\n",
            "\n",
            "           0       0.94      0.77      0.85        39\n",
            "           1       0.80      0.95      0.86        37\n",
            "\n",
            "    accuracy                           0.86        76\n",
            "   macro avg       0.87      0.86      0.85        76\n",
            "weighted avg       0.87      0.86      0.85        76\n",
            "\n"
          ]
        }
      ]
    },
    {
      "cell_type": "markdown",
      "source": [
        "**2) Decision Tree Classifier**"
      ],
      "metadata": {
        "id": "2SLxqZtoI9rx"
      }
    },
    {
      "cell_type": "code",
      "source": [
        "# Accuracy Score\n",
        "Accuracy_Score = tree.score(X_test,y_test)\n",
        "print(\"Accuarcy Score of a Test Data: \",Accuracy_Score)"
      ],
      "metadata": {
        "colab": {
          "base_uri": "https://localhost:8080/"
        },
        "id": "lVVtdZ44I6X9",
        "outputId": "cc408283-0af1-4bf4-d9b1-eb3269ca93ef"
      },
      "execution_count": 50,
      "outputs": [
        {
          "output_type": "stream",
          "name": "stdout",
          "text": [
            "Accuarcy Score of a Test Data:  0.8026315789473685\n"
          ]
        }
      ]
    },
    {
      "cell_type": "code",
      "source": [
        "# Confusion Matrix\n",
        "confusion_matrix(y_test,y_pred_tree)"
      ],
      "metadata": {
        "colab": {
          "base_uri": "https://localhost:8080/"
        },
        "id": "oUXouDkaJAV1",
        "outputId": "303d1a9f-a74c-4852-9929-352b257107ef"
      },
      "execution_count": 51,
      "outputs": [
        {
          "output_type": "execute_result",
          "data": {
            "text/plain": [
              "array([[29, 10],\n",
              "       [ 5, 32]])"
            ]
          },
          "metadata": {},
          "execution_count": 51
        }
      ]
    },
    {
      "cell_type": "code",
      "source": [
        "# f1 score\n",
        "F1_Score = f1_score(y_test,y_pred_tree)\n",
        "print(\"f1 Score of Test Data: \",F1_Score)"
      ],
      "metadata": {
        "colab": {
          "base_uri": "https://localhost:8080/"
        },
        "id": "UNZ6DQfxJCgy",
        "outputId": "3bb30ce8-b07e-4336-ac95-f1e3ff6ef08d"
      },
      "execution_count": 52,
      "outputs": [
        {
          "output_type": "stream",
          "name": "stdout",
          "text": [
            "f1 Score of Test Data:  0.810126582278481\n"
          ]
        }
      ]
    },
    {
      "cell_type": "code",
      "source": [
        "# AUROC Score\n",
        "plot_roc_curve(tree,X_test,y_test)"
      ],
      "metadata": {
        "colab": {
          "base_uri": "https://localhost:8080/",
          "height": 297
        },
        "id": "MaPOsiKVJEj1",
        "outputId": "c2ae772d-d8f8-424a-b436-8b18d4860561"
      },
      "execution_count": 53,
      "outputs": [
        {
          "output_type": "execute_result",
          "data": {
            "text/plain": [
              "<sklearn.metrics._plot.roc_curve.RocCurveDisplay at 0x7f115955f990>"
            ]
          },
          "metadata": {},
          "execution_count": 53
        },
        {
          "output_type": "display_data",
          "data": {
            "text/plain": [
              "<Figure size 432x288 with 1 Axes>"
            ],
            "image/png": "[encoded data removed]"
          },
          "metadata": {}
        }
      ]
    },
    {
      "cell_type": "code",
      "source": [
        "from sklearn.metrics import classification_report\n",
        "print(classification_report(y_test, y_pred_tree))"
      ],
      "metadata": {
        "colab": {
          "base_uri": "https://localhost:8080/"
        },
        "id": "LcMHgXArJHRZ",
        "outputId": "613b4a2a-5128-4e83-86b1-15878fa727da"
      },
      "execution_count": 54,
      "outputs": [
        {
          "output_type": "stream",
          "name": "stdout",
          "text": [
            "              precision    recall  f1-score   support\n",
            "\n",
            "           0       0.85      0.74      0.79        39\n",
            "           1       0.76      0.86      0.81        37\n",
            "\n",
            "    accuracy                           0.80        76\n",
            "   macro avg       0.81      0.80      0.80        76\n",
            "weighted avg       0.81      0.80      0.80        76\n",
            "\n"
          ]
        }
      ]
    },
    {
      "cell_type": "markdown",
      "source": [
        "**3) Random Forest Classifier**"
      ],
      "metadata": {
        "id": "LluOXoweJMY5"
      }
    },
    {
      "cell_type": "code",
      "source": [
        "# Accuracy Score\n",
        "Accuracy_Score = RF.score(X_test,y_test)\n",
        "print(\"Accuarcy Score of a Test Data: \",Accuracy_Score)"
      ],
      "metadata": {
        "colab": {
          "base_uri": "https://localhost:8080/"
        },
        "id": "c6qKOC5cJJ66",
        "outputId": "16692a72-c044-4307-cc74-25c4d8336b41"
      },
      "execution_count": 55,
      "outputs": [
        {
          "output_type": "stream",
          "name": "stdout",
          "text": [
            "Accuarcy Score of a Test Data:  0.8157894736842105\n"
          ]
        }
      ]
    },
    {
      "cell_type": "code",
      "source": [
        "# Confusion Matrix\n",
        "confusion_matrix(y_test,y_pred_RF)"
      ],
      "metadata": {
        "colab": {
          "base_uri": "https://localhost:8080/"
        },
        "id": "fu48vpRLJUWp",
        "outputId": "74dc2c7f-127d-41e2-ceda-b0252c4148ee"
      },
      "execution_count": 56,
      "outputs": [
        {
          "output_type": "execute_result",
          "data": {
            "text/plain": [
              "array([[27, 12],\n",
              "       [ 2, 35]])"
            ]
          },
          "metadata": {},
          "execution_count": 56
        }
      ]
    },
    {
      "cell_type": "code",
      "source": [
        "# f1 score\n",
        "F1_Score = f1_score(y_test,y_pred_RF)\n",
        "print(\"f1 Score of Test Data: \",F1_Score)"
      ],
      "metadata": {
        "colab": {
          "base_uri": "https://localhost:8080/"
        },
        "id": "_0m_CzHlJkOv",
        "outputId": "8644848d-01c8-4db1-9ed2-3f77308a71b2"
      },
      "execution_count": 57,
      "outputs": [
        {
          "output_type": "stream",
          "name": "stdout",
          "text": [
            "f1 Score of Test Data:  0.8333333333333334\n"
          ]
        }
      ]
    },
    {
      "cell_type": "code",
      "source": [
        "# AUROC Score\n",
        "plot_roc_curve(RF,X_test,y_test)"
      ],
      "metadata": {
        "colab": {
          "base_uri": "https://localhost:8080/",
          "height": 297
        },
        "id": "B7zNLvZKJpBt",
        "outputId": "d99f6a51-2098-424f-e66d-f12ef7680e60"
      },
      "execution_count": 58,
      "outputs": [
        {
          "output_type": "execute_result",
          "data": {
            "text/plain": [
              "<sklearn.metrics._plot.roc_curve.RocCurveDisplay at 0x7f11594e22d0>"
            ]
          },
          "metadata": {},
          "execution_count": 58
        },
        {
          "output_type": "display_data",
          "data": {
            "text/plain": [
              "<Figure size 432x288 with 1 Axes>"
            ],
            "image/png": "[encoded data removed]"
          },
          "metadata": {}
        }
      ]
    },
    {
      "cell_type": "code",
      "source": [
        "from sklearn.metrics import classification_report\n",
        "print(classification_report(y_test, y_pred_RF))"
      ],
      "metadata": {
        "colab": {
          "base_uri": "https://localhost:8080/"
        },
        "id": "cKE-w40tJtAw",
        "outputId": "b9121915-8260-4ed2-d49a-2b35d6267731"
      },
      "execution_count": 59,
      "outputs": [
        {
          "output_type": "stream",
          "name": "stdout",
          "text": [
            "              precision    recall  f1-score   support\n",
            "\n",
            "           0       0.93      0.69      0.79        39\n",
            "           1       0.74      0.95      0.83        37\n",
            "\n",
            "    accuracy                           0.82        76\n",
            "   macro avg       0.84      0.82      0.81        76\n",
            "weighted avg       0.84      0.82      0.81        76\n",
            "\n"
          ]
        }
      ]
    },
    {
      "cell_type": "markdown",
      "source": [
        "# **11) Feature Importances**"
      ],
      "metadata": {
        "id": "5f5vx4KAJ2ar"
      }
    },
    {
      "cell_type": "markdown",
      "source": [
        "**1) Decision Tree Classifier**"
      ],
      "metadata": {
        "id": "Yvk_S_-cJ56x"
      }
    },
    {
      "cell_type": "code",
      "source": [
        "# Get numerical feature importances\n",
        "importances = list(tree.feature_importances_)\n",
        "# list of tuple with variable and importances\n",
        "feature_importances = [(feature,round(importance,2)) for feature,importance in zip(X,importances)]\n",
        "# Sort the feature and importances\n",
        "feature_importances = sorted(feature_importances, key= lambda X:X[1],reverse = True)\n",
        "# Print out the Feature of importances\n",
        "[print(\"variable: {:20} Importance :{}\".format(*pair)) for pair in feature_importances]"
      ],
      "metadata": {
        "colab": {
          "base_uri": "https://localhost:8080/"
        },
        "id": "_RCpkhM_Jxbs",
        "outputId": "4f224e56-d719-4b0e-c02d-0b6599081e34"
      },
      "execution_count": 60,
      "outputs": [
        {
          "output_type": "stream",
          "name": "stdout",
          "text": [
            "variable: cp                   Importance :0.4\n",
            "variable: oldpeak              Importance :0.18\n",
            "variable: ca                   Importance :0.15\n",
            "variable: thal                 Importance :0.13\n",
            "variable: trestbps             Importance :0.04\n",
            "variable: thalach              Importance :0.04\n",
            "variable: slope                Importance :0.03\n",
            "variable: chol                 Importance :0.02\n",
            "variable: fbs                  Importance :0.0\n",
            "variable: restecg              Importance :0.0\n",
            "variable: exang                Importance :0.0\n"
          ]
        },
        {
          "output_type": "execute_result",
          "data": {
            "text/plain": [
              "[None, None, None, None, None, None, None, None, None, None, None]"
            ]
          },
          "metadata": {},
          "execution_count": 60
        }
      ]
    },
    {
      "cell_type": "markdown",
      "source": [
        "**2) Random Forest Classifier**"
      ],
      "metadata": {
        "id": "hOiZU0qjKBZj"
      }
    },
    {
      "cell_type": "code",
      "source": [
        "# Get numerical feature importances\n",
        "importances = list(RF.feature_importances_)\n",
        "# list of tuple with variable and importances\n",
        "feature_importances = [(feature,round(importance,2)) for feature,importance in zip(X,importances)]\n",
        "# Sort the feature and importances\n",
        "feature_importances = sorted(feature_importances, key= lambda X:X[1],reverse = True)\n",
        "# Print out the Feature of importances\n",
        "[print(\"variable: {:20} Importance :{}\".format(*pair)) for pair in feature_importances]"
      ],
      "metadata": {
        "colab": {
          "base_uri": "https://localhost:8080/"
        },
        "id": "P9vK4rdaJ-fg",
        "outputId": "011066ef-ff3b-4c39-eab4-b151377b0b5c"
      },
      "execution_count": 61,
      "outputs": [
        {
          "output_type": "stream",
          "name": "stdout",
          "text": [
            "variable: cp                   Importance :0.23\n",
            "variable: oldpeak              Importance :0.17\n",
            "variable: ca                   Importance :0.16\n",
            "variable: thal                 Importance :0.14\n",
            "variable: thalach              Importance :0.1\n",
            "variable: exang                Importance :0.09\n",
            "variable: slope                Importance :0.07\n",
            "variable: chol                 Importance :0.03\n",
            "variable: trestbps             Importance :0.01\n",
            "variable: fbs                  Importance :0.0\n",
            "variable: restecg              Importance :0.0\n"
          ]
        },
        {
          "output_type": "execute_result",
          "data": {
            "text/plain": [
              "[None, None, None, None, None, None, None, None, None, None, None]"
            ]
          },
          "metadata": {},
          "execution_count": 61
        }
      ]
    },
    {
      "cell_type": "code",
      "source": [],
      "metadata": {
        "id": "Thi0_EPwKMux"
      },
      "execution_count": null,
      "outputs": []
    }
  ]
}